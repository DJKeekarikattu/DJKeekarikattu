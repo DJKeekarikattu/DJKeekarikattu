{
  "cells": [
    {
      "cell_type": "markdown",
      "metadata": {
        "id": "view-in-github",
        "colab_type": "text"
      },
      "source": [
        "<a href=\"https://colab.research.google.com/github/DeepuJose24/DJKeekarikattu/blob/main/Assignment%20Clustering.ipynb\" target=\"_parent\"><img src=\"https://colab.research.google.com/assets/colab-badge.svg\" alt=\"Open In Colab\"/></a>"
      ]
    },
    {
      "cell_type": "markdown",
      "source": [
        "Importing necessary libraries"
      ],
      "metadata": {
        "id": "tlt_A_43bQB2"
      },
      "id": "tlt_A_43bQB2"
    },
    {
      "cell_type": "code",
      "execution_count": 121,
      "id": "2cc033ac",
      "metadata": {
        "execution": {
          "iopub.execute_input": "2022-04-08T08:20:12.867447Z",
          "iopub.status.busy": "2022-04-08T08:20:12.866598Z",
          "iopub.status.idle": "2022-04-08T08:20:15.003449Z",
          "shell.execute_reply": "2022-04-08T08:20:15.002489Z",
          "shell.execute_reply.started": "2022-04-07T13:26:39.6401Z"
        },
        "id": "2cc033ac",
        "papermill": {
          "duration": 2.197741,
          "end_time": "2022-04-08T08:20:15.003623",
          "exception": false,
          "start_time": "2022-04-08T08:20:12.805882",
          "status": "completed"
        },
        "tags": []
      },
      "outputs": [],
      "source": [
        "import numpy as np # linear algebra\n",
        "import pandas as pd # data processing, CSV file I/O (e.g. pd.read_csv)\n",
        "import seaborn as sns\n",
        "import matplotlib.pyplot as plt\n",
        "from sklearn.preprocessing import RobustScaler\n",
        "from sklearn.model_selection import train_test_split,cross_val_score,GridSearchCV,RandomizedSearchCV\n",
        "from sklearn.metrics import classification_report\n",
        "from sklearn.neural_network import MLPClassifier\n",
        "from sklearn.model_selection import train_test_split"
      ]
    },
    {
      "cell_type": "markdown",
      "source": [
        "Reading the data file"
      ],
      "metadata": {
        "id": "1VSAgWbZbY84"
      },
      "id": "1VSAgWbZbY84"
    },
    {
      "cell_type": "code",
      "execution_count": 122,
      "id": "6cbf94b1",
      "metadata": {
        "colab": {
          "base_uri": "https://localhost:8080/",
          "height": 206
        },
        "execution": {
          "iopub.execute_input": "2022-04-08T08:20:15.466214Z",
          "iopub.status.busy": "2022-04-08T08:20:15.465564Z",
          "iopub.status.idle": "2022-04-08T08:20:16.256638Z",
          "shell.execute_reply": "2022-04-08T08:20:16.257130Z",
          "shell.execute_reply.started": "2022-04-07T13:26:39.902833Z"
        },
        "id": "6cbf94b1",
        "outputId": "e4a489a1-4fc6-4ef1-f167-d691f4ad3283",
        "papermill": {
          "duration": 0.851462,
          "end_time": "2022-04-08T08:20:16.257336",
          "exception": false,
          "start_time": "2022-04-08T08:20:15.405874",
          "status": "completed"
        },
        "tags": []
      },
      "outputs": [
        {
          "output_type": "execute_result",
          "data": {
            "text/plain": [
              "   Unnamed: 0       mmsi navigationalstatus  sog    cog  heading     shiptype  \\\n",
              "0           0  219019621      Unknown value  0.0   86.0     86.0      Fishing   \n",
              "1           1  265628170      Unknown value  0.0  334.5      NaN  Port tender   \n",
              "2           2  219005719      Unknown value  0.0  208.7      NaN      Fishing   \n",
              "3           3  219028066      Unknown value  0.0    NaN      NaN     Pleasure   \n",
              "4           4  212584000             Moored  0.0  153.0    106.0        Cargo   \n",
              "\n",
              "   width  length  draught  \n",
              "0    4.0     9.0      NaN  \n",
              "1    8.0    27.0      NaN  \n",
              "2    4.0    11.0      NaN  \n",
              "3    3.0    12.0      NaN  \n",
              "4   13.0    99.0      6.3  "
            ],
            "text/html": [
              "\n",
              "  <div id=\"df-9df71f51-f392-40c7-99eb-945379cc78cc\">\n",
              "    <div class=\"colab-df-container\">\n",
              "      <div>\n",
              "<style scoped>\n",
              "    .dataframe tbody tr th:only-of-type {\n",
              "        vertical-align: middle;\n",
              "    }\n",
              "\n",
              "    .dataframe tbody tr th {\n",
              "        vertical-align: top;\n",
              "    }\n",
              "\n",
              "    .dataframe thead th {\n",
              "        text-align: right;\n",
              "    }\n",
              "</style>\n",
              "<table border=\"1\" class=\"dataframe\">\n",
              "  <thead>\n",
              "    <tr style=\"text-align: right;\">\n",
              "      <th></th>\n",
              "      <th>Unnamed: 0</th>\n",
              "      <th>mmsi</th>\n",
              "      <th>navigationalstatus</th>\n",
              "      <th>sog</th>\n",
              "      <th>cog</th>\n",
              "      <th>heading</th>\n",
              "      <th>shiptype</th>\n",
              "      <th>width</th>\n",
              "      <th>length</th>\n",
              "      <th>draught</th>\n",
              "    </tr>\n",
              "  </thead>\n",
              "  <tbody>\n",
              "    <tr>\n",
              "      <th>0</th>\n",
              "      <td>0</td>\n",
              "      <td>219019621</td>\n",
              "      <td>Unknown value</td>\n",
              "      <td>0.0</td>\n",
              "      <td>86.0</td>\n",
              "      <td>86.0</td>\n",
              "      <td>Fishing</td>\n",
              "      <td>4.0</td>\n",
              "      <td>9.0</td>\n",
              "      <td>NaN</td>\n",
              "    </tr>\n",
              "    <tr>\n",
              "      <th>1</th>\n",
              "      <td>1</td>\n",
              "      <td>265628170</td>\n",
              "      <td>Unknown value</td>\n",
              "      <td>0.0</td>\n",
              "      <td>334.5</td>\n",
              "      <td>NaN</td>\n",
              "      <td>Port tender</td>\n",
              "      <td>8.0</td>\n",
              "      <td>27.0</td>\n",
              "      <td>NaN</td>\n",
              "    </tr>\n",
              "    <tr>\n",
              "      <th>2</th>\n",
              "      <td>2</td>\n",
              "      <td>219005719</td>\n",
              "      <td>Unknown value</td>\n",
              "      <td>0.0</td>\n",
              "      <td>208.7</td>\n",
              "      <td>NaN</td>\n",
              "      <td>Fishing</td>\n",
              "      <td>4.0</td>\n",
              "      <td>11.0</td>\n",
              "      <td>NaN</td>\n",
              "    </tr>\n",
              "    <tr>\n",
              "      <th>3</th>\n",
              "      <td>3</td>\n",
              "      <td>219028066</td>\n",
              "      <td>Unknown value</td>\n",
              "      <td>0.0</td>\n",
              "      <td>NaN</td>\n",
              "      <td>NaN</td>\n",
              "      <td>Pleasure</td>\n",
              "      <td>3.0</td>\n",
              "      <td>12.0</td>\n",
              "      <td>NaN</td>\n",
              "    </tr>\n",
              "    <tr>\n",
              "      <th>4</th>\n",
              "      <td>4</td>\n",
              "      <td>212584000</td>\n",
              "      <td>Moored</td>\n",
              "      <td>0.0</td>\n",
              "      <td>153.0</td>\n",
              "      <td>106.0</td>\n",
              "      <td>Cargo</td>\n",
              "      <td>13.0</td>\n",
              "      <td>99.0</td>\n",
              "      <td>6.3</td>\n",
              "    </tr>\n",
              "  </tbody>\n",
              "</table>\n",
              "</div>\n",
              "      <button class=\"colab-df-convert\" onclick=\"convertToInteractive('df-9df71f51-f392-40c7-99eb-945379cc78cc')\"\n",
              "              title=\"Convert this dataframe to an interactive table.\"\n",
              "              style=\"display:none;\">\n",
              "        \n",
              "  <svg xmlns=\"http://www.w3.org/2000/svg\" height=\"24px\"viewBox=\"0 0 24 24\"\n",
              "       width=\"24px\">\n",
              "    <path d=\"M0 0h24v24H0V0z\" fill=\"none\"/>\n",
              "    <path d=\"M18.56 5.44l.94 2.06.94-2.06 2.06-.94-2.06-.94-.94-2.06-.94 2.06-2.06.94zm-11 1L8.5 8.5l.94-2.06 2.06-.94-2.06-.94L8.5 2.5l-.94 2.06-2.06.94zm10 10l.94 2.06.94-2.06 2.06-.94-2.06-.94-.94-2.06-.94 2.06-2.06.94z\"/><path d=\"M17.41 7.96l-1.37-1.37c-.4-.4-.92-.59-1.43-.59-.52 0-1.04.2-1.43.59L10.3 9.45l-7.72 7.72c-.78.78-.78 2.05 0 2.83L4 21.41c.39.39.9.59 1.41.59.51 0 1.02-.2 1.41-.59l7.78-7.78 2.81-2.81c.8-.78.8-2.07 0-2.86zM5.41 20L4 18.59l7.72-7.72 1.47 1.35L5.41 20z\"/>\n",
              "  </svg>\n",
              "      </button>\n",
              "      \n",
              "  <style>\n",
              "    .colab-df-container {\n",
              "      display:flex;\n",
              "      flex-wrap:wrap;\n",
              "      gap: 12px;\n",
              "    }\n",
              "\n",
              "    .colab-df-convert {\n",
              "      background-color: #E8F0FE;\n",
              "      border: none;\n",
              "      border-radius: 50%;\n",
              "      cursor: pointer;\n",
              "      display: none;\n",
              "      fill: #1967D2;\n",
              "      height: 32px;\n",
              "      padding: 0 0 0 0;\n",
              "      width: 32px;\n",
              "    }\n",
              "\n",
              "    .colab-df-convert:hover {\n",
              "      background-color: #E2EBFA;\n",
              "      box-shadow: 0px 1px 2px rgba(60, 64, 67, 0.3), 0px 1px 3px 1px rgba(60, 64, 67, 0.15);\n",
              "      fill: #174EA6;\n",
              "    }\n",
              "\n",
              "    [theme=dark] .colab-df-convert {\n",
              "      background-color: #3B4455;\n",
              "      fill: #D2E3FC;\n",
              "    }\n",
              "\n",
              "    [theme=dark] .colab-df-convert:hover {\n",
              "      background-color: #434B5C;\n",
              "      box-shadow: 0px 1px 3px 1px rgba(0, 0, 0, 0.15);\n",
              "      filter: drop-shadow(0px 1px 2px rgba(0, 0, 0, 0.3));\n",
              "      fill: #FFFFFF;\n",
              "    }\n",
              "  </style>\n",
              "\n",
              "      <script>\n",
              "        const buttonEl =\n",
              "          document.querySelector('#df-9df71f51-f392-40c7-99eb-945379cc78cc button.colab-df-convert');\n",
              "        buttonEl.style.display =\n",
              "          google.colab.kernel.accessAllowed ? 'block' : 'none';\n",
              "\n",
              "        async function convertToInteractive(key) {\n",
              "          const element = document.querySelector('#df-9df71f51-f392-40c7-99eb-945379cc78cc');\n",
              "          const dataTable =\n",
              "            await google.colab.kernel.invokeFunction('convertToInteractive',\n",
              "                                                     [key], {});\n",
              "          if (!dataTable) return;\n",
              "\n",
              "          const docLinkHtml = 'Like what you see? Visit the ' +\n",
              "            '<a target=\"_blank\" href=https://colab.research.google.com/notebooks/data_table.ipynb>data table notebook</a>'\n",
              "            + ' to learn more about interactive tables.';\n",
              "          element.innerHTML = '';\n",
              "          dataTable['output_type'] = 'display_data';\n",
              "          await google.colab.output.renderOutput(dataTable, element);\n",
              "          const docLink = document.createElement('div');\n",
              "          docLink.innerHTML = docLinkHtml;\n",
              "          element.appendChild(docLink);\n",
              "        }\n",
              "      </script>\n",
              "    </div>\n",
              "  </div>\n",
              "  "
            ]
          },
          "metadata": {},
          "execution_count": 122
        }
      ],
      "source": [
        "df = pd.read_csv(\"/content/ais_data.csv\")\n",
        "df.head()"
      ]
    },
    {
      "cell_type": "code",
      "source": [
        "from google.colab import drive\n",
        "drive.mount('/content/drive')"
      ],
      "metadata": {
        "colab": {
          "base_uri": "https://localhost:8080/"
        },
        "id": "x5jcnVwoBEKu",
        "outputId": "145c5956-3465-47d7-b5fc-4c47fb051470"
      },
      "id": "x5jcnVwoBEKu",
      "execution_count": null,
      "outputs": [
        {
          "output_type": "stream",
          "name": "stdout",
          "text": [
            "Mounted at /content/drive\n"
          ]
        }
      ]
    },
    {
      "cell_type": "markdown",
      "source": [
        "## **Preprocessing the data**"
      ],
      "metadata": {
        "id": "edPfLAwIbg9b"
      },
      "id": "edPfLAwIbg9b"
    },
    {
      "cell_type": "code",
      "execution_count": 123,
      "id": "d3d2a3e4",
      "metadata": {
        "colab": {
          "base_uri": "https://localhost:8080/"
        },
        "execution": {
          "iopub.execute_input": "2022-04-08T08:20:16.492119Z",
          "iopub.status.busy": "2022-04-08T08:20:16.491245Z",
          "iopub.status.idle": "2022-04-08T08:20:16.494621Z",
          "shell.execute_reply": "2022-04-08T08:20:16.495112Z",
          "shell.execute_reply.started": "2022-04-07T13:26:40.192829Z"
        },
        "id": "d3d2a3e4",
        "outputId": "5ec9fdf7-f724-4354-a481-abbb8f3e76d8",
        "papermill": {
          "duration": 0.066148,
          "end_time": "2022-04-08T08:20:16.495309",
          "exception": false,
          "start_time": "2022-04-08T08:20:16.429161",
          "status": "completed"
        },
        "tags": []
      },
      "outputs": [
        {
          "output_type": "execute_result",
          "data": {
            "text/plain": [
              "(358351, 10)"
            ]
          },
          "metadata": {},
          "execution_count": 123
        }
      ],
      "source": [
        "# Looking for shape;\n",
        "df.shape"
      ]
    },
    {
      "cell_type": "code",
      "execution_count": 124,
      "id": "ac5a5870",
      "metadata": {
        "execution": {
          "iopub.execute_input": "2022-04-08T08:20:16.637886Z",
          "iopub.status.busy": "2022-04-08T08:20:16.630071Z",
          "iopub.status.idle": "2022-04-08T08:20:16.640801Z",
          "shell.execute_reply": "2022-04-08T08:20:16.640215Z",
          "shell.execute_reply.started": "2022-04-07T13:26:40.198708Z"
        },
        "id": "ac5a5870",
        "papermill": {
          "duration": 0.088022,
          "end_time": "2022-04-08T08:20:16.640952",
          "exception": false,
          "start_time": "2022-04-08T08:20:16.552930",
          "status": "completed"
        },
        "tags": []
      },
      "outputs": [],
      "source": [
        "# Removing the unneeded column;\n",
        "df.drop(['Unnamed: 0'], axis=1, inplace=True)"
      ]
    },
    {
      "cell_type": "code",
      "execution_count": 125,
      "id": "178dc3d5",
      "metadata": {
        "colab": {
          "base_uri": "https://localhost:8080/"
        },
        "execution": {
          "iopub.execute_input": "2022-04-08T08:20:16.834774Z",
          "iopub.status.busy": "2022-04-08T08:20:16.759348Z",
          "iopub.status.idle": "2022-04-08T08:20:16.849194Z",
          "shell.execute_reply": "2022-04-08T08:20:16.848665Z",
          "shell.execute_reply.started": "2022-04-07T13:26:40.217747Z"
        },
        "id": "178dc3d5",
        "outputId": "e74b75b4-cc92-478f-e3cd-c9ab28004d57",
        "papermill": {
          "duration": 0.151044,
          "end_time": "2022-04-08T08:20:16.849364",
          "exception": false,
          "start_time": "2022-04-08T08:20:16.698320",
          "status": "completed"
        },
        "tags": []
      },
      "outputs": [
        {
          "output_type": "execute_result",
          "data": {
            "text/plain": [
              "mmsi                      0\n",
              "navigationalstatus        0\n",
              "sog                     458\n",
              "cog                    3169\n",
              "heading               20614\n",
              "shiptype                  0\n",
              "width                  3711\n",
              "length                 3743\n",
              "draught               25543\n",
              "dtype: int64"
            ]
          },
          "metadata": {},
          "execution_count": 125
        }
      ],
      "source": [
        "# Removing the null values;\n",
        "df.isnull().sum() "
      ]
    },
    {
      "cell_type": "code",
      "execution_count": 126,
      "id": "23e1e2f5",
      "metadata": {
        "colab": {
          "base_uri": "https://localhost:8080/"
        },
        "execution": {
          "iopub.execute_input": "2022-04-08T08:20:17.048373Z",
          "iopub.status.busy": "2022-04-08T08:20:16.972169Z",
          "iopub.status.idle": "2022-04-08T08:20:17.074419Z",
          "shell.execute_reply": "2022-04-08T08:20:17.073848Z",
          "shell.execute_reply.started": "2022-04-07T13:26:40.303885Z"
        },
        "id": "23e1e2f5",
        "outputId": "742bb39d-9c17-4691-da79-343a921c4e84",
        "papermill": {
          "duration": 0.167823,
          "end_time": "2022-04-08T08:20:17.074574",
          "exception": false,
          "start_time": "2022-04-08T08:20:16.906751",
          "status": "completed"
        },
        "tags": []
      },
      "outputs": [
        {
          "output_type": "stream",
          "name": "stdout",
          "text": [
            "<class 'pandas.core.frame.DataFrame'>\n",
            "RangeIndex: 358351 entries, 0 to 358350\n",
            "Data columns (total 9 columns):\n",
            " #   Column              Non-Null Count   Dtype  \n",
            "---  ------              --------------   -----  \n",
            " 0   mmsi                358351 non-null  int64  \n",
            " 1   navigationalstatus  358351 non-null  object \n",
            " 2   sog                 357893 non-null  float64\n",
            " 3   cog                 355182 non-null  float64\n",
            " 4   heading             337737 non-null  float64\n",
            " 5   shiptype            358351 non-null  object \n",
            " 6   width               354640 non-null  float64\n",
            " 7   length              354608 non-null  float64\n",
            " 8   draught             332808 non-null  float64\n",
            "dtypes: float64(6), int64(1), object(2)\n",
            "memory usage: 24.6+ MB\n"
          ]
        }
      ],
      "source": [
        "df.info()"
      ]
    },
    {
      "cell_type": "code",
      "execution_count": 127,
      "id": "21838d78",
      "metadata": {
        "execution": {
          "iopub.execute_input": "2022-04-08T08:20:17.315084Z",
          "iopub.status.busy": "2022-04-08T08:20:17.314089Z",
          "iopub.status.idle": "2022-04-08T08:20:17.323390Z",
          "shell.execute_reply": "2022-04-08T08:20:17.323994Z",
          "shell.execute_reply.started": "2022-04-07T13:26:40.38982Z"
        },
        "id": "21838d78",
        "papermill": {
          "duration": 0.073642,
          "end_time": "2022-04-08T08:20:17.324177",
          "exception": false,
          "start_time": "2022-04-08T08:20:17.250535",
          "status": "completed"
        },
        "tags": []
      },
      "outputs": [],
      "source": [
        "def grab_col_names(dataframe, cat_th=10, car_th=20):\n",
        "\n",
        "    # cat_cols, cat_but_car\n",
        "    cat_cols = [col for col in dataframe.columns if dataframe[col].dtypes == \"O\"]\n",
        "    num_but_cat = [col for col in dataframe.columns if dataframe[col].nunique() < cat_th and\n",
        "                   dataframe[col].dtypes != \"O\"]\n",
        "    cat_but_car = [col for col in dataframe.columns if dataframe[col].nunique() > car_th and\n",
        "                   dataframe[col].dtypes == \"O\"]\n",
        "    cat_cols = cat_cols + num_but_cat\n",
        "    cat_cols = [col for col in cat_cols if col not in cat_but_car]\n",
        "\n",
        "    # num_cols\n",
        "    num_cols = [col for col in dataframe.columns if dataframe[col].dtypes != \"O\"]\n",
        "    num_cols = [col for col in num_cols if col not in num_but_cat]\n",
        "\n",
        "    print(f\"Observations: {dataframe.shape[0]}\")\n",
        "    print(f\"Variables: {dataframe.shape[1]}\")\n",
        "    print(f'cat_cols: {len(cat_cols)}')\n",
        "    print(f'num_cols: {len(num_cols)}')\n",
        "    print(f'cat_but_car: {len(cat_but_car)}')\n",
        "    print(f'num_but_cat: {len(num_but_cat)}')\n",
        "    return cat_cols, num_cols, cat_but_car"
      ]
    },
    {
      "cell_type": "code",
      "execution_count": 128,
      "id": "b7bbfa69",
      "metadata": {
        "colab": {
          "base_uri": "https://localhost:8080/"
        },
        "execution": {
          "iopub.execute_input": "2022-04-08T08:20:17.565123Z",
          "iopub.status.busy": "2022-04-08T08:20:17.564422Z",
          "iopub.status.idle": "2022-04-08T08:20:17.767478Z",
          "shell.execute_reply": "2022-04-08T08:20:17.766931Z",
          "shell.execute_reply.started": "2022-04-07T13:26:40.425891Z"
        },
        "id": "b7bbfa69",
        "outputId": "0c9ece37-596f-44c7-8b79-d6eed6257f04",
        "papermill": {
          "duration": 0.266809,
          "end_time": "2022-04-08T08:20:17.767633",
          "exception": false,
          "start_time": "2022-04-08T08:20:17.500824",
          "status": "completed"
        },
        "tags": []
      },
      "outputs": [
        {
          "output_type": "stream",
          "name": "stdout",
          "text": [
            "Observations: 358351\n",
            "Variables: 9\n",
            "cat_cols: 2\n",
            "num_cols: 7\n",
            "cat_but_car: 0\n",
            "num_but_cat: 0\n"
          ]
        }
      ],
      "source": [
        "cat_cols, num_cols, cat_but_car = grab_col_names(df)"
      ]
    },
    {
      "cell_type": "code",
      "execution_count": 129,
      "id": "f8aa6eb7",
      "metadata": {
        "colab": {
          "base_uri": "https://localhost:8080/"
        },
        "execution": {
          "iopub.execute_input": "2022-04-08T08:20:18.009181Z",
          "iopub.status.busy": "2022-04-08T08:20:18.008542Z",
          "iopub.status.idle": "2022-04-08T08:20:18.132283Z",
          "shell.execute_reply": "2022-04-08T08:20:18.131752Z",
          "shell.execute_reply.started": "2022-04-07T13:26:40.571739Z"
        },
        "id": "f8aa6eb7",
        "outputId": "bb212985-c7c5-4cdf-b644-31725b5ed41a",
        "papermill": {
          "duration": 0.186973,
          "end_time": "2022-04-08T08:20:18.132433",
          "exception": false,
          "start_time": "2022-04-08T08:20:17.945460",
          "status": "completed"
        },
        "tags": []
      },
      "outputs": [
        {
          "output_type": "execute_result",
          "data": {
            "text/plain": [
              "(3894, 8)"
            ]
          },
          "metadata": {},
          "execution_count": 129
        }
      ],
      "source": [
        "df.groupby('mmsi').count().shape"
      ]
    },
    {
      "cell_type": "code",
      "execution_count": 130,
      "id": "ba208e21",
      "metadata": {
        "colab": {
          "base_uri": "https://localhost:8080/"
        },
        "execution": {
          "iopub.execute_input": "2022-04-08T08:20:18.308530Z",
          "iopub.status.busy": "2022-04-08T08:20:18.307861Z",
          "iopub.status.idle": "2022-04-08T08:20:18.313104Z",
          "shell.execute_reply": "2022-04-08T08:20:18.313650Z",
          "shell.execute_reply.started": "2022-04-07T13:26:40.641637Z"
        },
        "id": "ba208e21",
        "outputId": "eeff0040-c316-4fa4-ee7c-a36ed91485ec",
        "papermill": {
          "duration": 0.122094,
          "end_time": "2022-04-08T08:20:18.313818",
          "exception": false,
          "start_time": "2022-04-08T08:20:18.191724",
          "status": "completed"
        },
        "tags": []
      },
      "outputs": [
        {
          "output_type": "execute_result",
          "data": {
            "text/plain": [
              "Under way using engine                                   307581\n",
              "Unknown value                                             17259\n",
              "Constrained by her draught                                12287\n",
              "Engaged in fishing                                        10798\n",
              "Moored                                                     4121\n",
              "Reserved for future amendment [HSC]                        1872\n",
              "Restricted maneuverability                                 1868\n",
              "Under way sailing                                          1396\n",
              "At anchor                                                   513\n",
              "Power-driven vessel towing astern                           377\n",
              "Power-driven vessel pushing ahead or towing alongside       236\n",
              "Not under command                                            31\n",
              "Reserved for future amendment [WIG]                          12\n",
              "Name: navigationalstatus, dtype: int64"
            ]
          },
          "metadata": {},
          "execution_count": 130
        }
      ],
      "source": [
        "# the other important variable\n",
        "df['navigationalstatus'].value_counts() "
      ]
    },
    {
      "cell_type": "code",
      "execution_count": 131,
      "id": "f4f2a680",
      "metadata": {
        "colab": {
          "base_uri": "https://localhost:8080/"
        },
        "execution": {
          "iopub.execute_input": "2022-04-08T08:20:18.556055Z",
          "iopub.status.busy": "2022-04-08T08:20:18.555448Z",
          "iopub.status.idle": "2022-04-08T08:20:18.645732Z",
          "shell.execute_reply": "2022-04-08T08:20:18.646794Z",
          "shell.execute_reply.started": "2022-04-07T13:26:40.734937Z"
        },
        "id": "f4f2a680",
        "outputId": "7bb29228-fea7-4e87-e05b-a182620f4a89",
        "papermill": {
          "duration": 0.154586,
          "end_time": "2022-04-08T08:20:18.647108",
          "exception": false,
          "start_time": "2022-04-08T08:20:18.492522",
          "status": "completed"
        },
        "tags": []
      },
      "outputs": [
        {
          "output_type": "stream",
          "name": "stdout",
          "text": [
            "         n_miss     ratio\n",
            "sog         458  0.001278\n",
            "cog        3169  0.008843\n",
            "heading   20614  0.057525\n",
            "width      3711  0.010356\n",
            "length     3743  0.010445\n",
            "draught   25543  0.071279\n"
          ]
        }
      ],
      "source": [
        "def missing_values_table(data):\n",
        "    m=data.isnull().sum()\n",
        "    print(pd.DataFrame({'n_miss' : m[m!=0],'ratio' : m[m!=0]/len(data)}))\n",
        "\n",
        "missing_values_table(df)"
      ]
    },
    {
      "cell_type": "markdown",
      "source": [
        "**Checking** **for Outliers**"
      ],
      "metadata": {
        "id": "0iY6ZiWFzDE5"
      },
      "id": "0iY6ZiWFzDE5"
    },
    {
      "cell_type": "code",
      "execution_count": 132,
      "id": "7c3241fe",
      "metadata": {
        "colab": {
          "base_uri": "https://localhost:8080/"
        },
        "execution": {
          "iopub.execute_input": "2022-04-08T08:20:18.896916Z",
          "iopub.status.busy": "2022-04-08T08:20:18.891207Z",
          "iopub.status.idle": "2022-04-08T08:20:19.014600Z",
          "shell.execute_reply": "2022-04-08T08:20:19.013935Z",
          "shell.execute_reply.started": "2022-04-07T13:26:40.872493Z"
        },
        "id": "7c3241fe",
        "outputId": "210998db-bae8-426a-d753-bd152d012d72",
        "papermill": {
          "duration": 0.186039,
          "end_time": "2022-04-08T08:20:19.014741",
          "exception": false,
          "start_time": "2022-04-08T08:20:18.828702",
          "status": "completed"
        },
        "tags": []
      },
      "outputs": [
        {
          "output_type": "stream",
          "name": "stdout",
          "text": [
            "\n",
            " Number of outliers for 'mmsi' : 24\n",
            "\n",
            " Number of outliers for 'sog' : 2910\n",
            "\n",
            " Number of outliers for 'width' : 9\n",
            "\n",
            " Number of outliers for 'length' : 47\n",
            "\n",
            " Number of outliers for 'draught' : 567\n"
          ]
        }
      ],
      "source": [
        "def thresholds(col, data, d, u):\n",
        "    q3=data[col].quantile(u)\n",
        "    q1=data[col].quantile(d)\n",
        "    down=q1-(q3-q1)*1.5\n",
        "    up=q1+(q3-q1)*1.5\n",
        "    return down, up\n",
        "\n",
        "def check_outliers(col, data, d=0.25, u=0.75, plot=False):\n",
        "    down, up = thresholds(col, data, d, u)\n",
        "    ind = data[(data[col] < down) | (data[col] > up)].index\n",
        "    if plot:\n",
        "        sns.boxplot(x=col, data=data)\n",
        "        plt.show()\n",
        "    if len(ind)!= 0:\n",
        "        print(f\"\\n Number of outliers for '{col}' : {len(ind)}\")\n",
        "        return col\n",
        "\n",
        "for col in num_cols:\n",
        "    check_outliers(col, df, 0.01, 0.99) # we set thresholds 0.01 and 0.99 !!"
      ]
    },
    {
      "cell_type": "markdown",
      "source": [
        "**Analyzing correlation between variables**"
      ],
      "metadata": {
        "id": "f8fOzyV7zMWJ"
      },
      "id": "f8fOzyV7zMWJ"
    },
    {
      "cell_type": "code",
      "execution_count": 133,
      "id": "b1ce22f6",
      "metadata": {
        "colab": {
          "base_uri": "https://localhost:8080/",
          "height": 334
        },
        "execution": {
          "iopub.execute_input": "2022-04-08T08:20:19.259835Z",
          "iopub.status.busy": "2022-04-08T08:20:19.259086Z",
          "iopub.status.idle": "2022-04-08T08:20:19.773188Z",
          "shell.execute_reply": "2022-04-08T08:20:19.773715Z",
          "shell.execute_reply.started": "2022-04-07T13:26:40.959981Z"
        },
        "id": "b1ce22f6",
        "outputId": "113e31de-1786-429f-e6a6-cf4be3efd73f",
        "papermill": {
          "duration": 0.5775,
          "end_time": "2022-04-08T08:20:19.773903",
          "exception": false,
          "start_time": "2022-04-08T08:20:19.196403",
          "status": "completed"
        },
        "tags": []
      },
      "outputs": [
        {
          "output_type": "stream",
          "name": "stdout",
          "text": [
            "heading  cog      0.961725\n",
            "length   width    0.956365\n",
            "dtype: float64\n"
          ]
        },
        {
          "output_type": "display_data",
          "data": {
            "text/plain": [
              "<Figure size 432x288 with 2 Axes>"
            ],
            "image/png": "[encoded data removed]"
          },
          "metadata": {
            "needs_background": "light"
          }
        },
        {
          "output_type": "execute_result",
          "data": {
            "text/plain": [
              "[('heading', 'cog'), ('length', 'width')]"
            ]
          },
          "metadata": {},
          "execution_count": 133
        }
      ],
      "source": [
        "def corr_analyzer(data, corr_th=0.7, plot=False):\n",
        "    corr_matrix = pd.DataFrame(np.tril(data.corr(), k=-1), columns=data.corr().columns, index=data.corr().columns)\n",
        "    corr = corr_matrix[corr_matrix>corr_th].stack()\n",
        "    print(corr)\n",
        "    if plot: # Görsel olarak analiz\n",
        "        sns.heatmap(corr_matrix)\n",
        "        plt.show()\n",
        "    return corr[corr>corr_th].index.tolist()\n",
        "\n",
        "corr_analyzer(df, corr_th=0.75, plot=True)"
      ]
    },
    {
      "cell_type": "code",
      "source": [
        "# First, the filling was made according to those in the 'heading' but not in the 'cog'. So we have fewer missings at 'cog'\n",
        "df['route'] = np.where(df['cog'].isnull(), df['heading'], df['cog']) \n",
        "\n",
        "# Secondly, we divided the 360-degree route into 8 regions.\n",
        "rot= [-1, 45, 90, 135, 180, 225, 270, 315, 360]\n",
        "df['waypoint'] = pd.cut(df['route'], rot, labels=['NNE','ENE','ESE','SSE','SSW','WSW','WNW','NNW'])\n",
        "\n",
        "# Finally, the ships with less than 5.5kts speed and no route information were tagged as 'FIX'.\n",
        "df['waypoint'] = np.where((df['sog']<5.5) & (df['waypoint'].isnull()), 'FIX', df['waypoint'])"
      ],
      "metadata": {
        "id": "J0c9zjRHjalC"
      },
      "id": "J0c9zjRHjalC",
      "execution_count": 134,
      "outputs": []
    },
    {
      "cell_type": "code",
      "source": [
        "#Vessels’ speed depends on ship type mostly. We fill the missings according to 'sog' and 'route' variables. Then assigned as a new variable.\n",
        "\n",
        "df['speed'] = df[\"sog\"].fillna(df.groupby(['shiptype', 'waypoint'])['sog'].transform('mean'))"
      ],
      "metadata": {
        "id": "QDdFPAFEjnNH"
      },
      "id": "QDdFPAFEjnNH",
      "execution_count": 135,
      "outputs": []
    },
    {
      "cell_type": "code",
      "source": [
        "#New aspect for the dimensions;\n",
        "df['dimension'] = df['width'] * df['length']"
      ],
      "metadata": {
        "id": "d9flSSndjpF2"
      },
      "id": "d9flSSndjpF2",
      "execution_count": 136,
      "outputs": []
    },
    {
      "cell_type": "code",
      "source": [
        "#After dropping the duplicates we have a total of 3894 ships. Let’s have a look at the final form of output.\n",
        "df = df.drop_duplicates(subset='mmsi') # one vessel has more than one data\n",
        "df.groupby(['shiptype'])['mmsi'].count()"
      ],
      "metadata": {
        "colab": {
          "base_uri": "https://localhost:8080/"
        },
        "id": "tNEMHGRAkoJB",
        "outputId": "08d802e9-fce5-43a7-ac7a-5b5f0dd4f541"
      },
      "id": "tNEMHGRAkoJB",
      "execution_count": 138,
      "outputs": [
        {
          "output_type": "execute_result",
          "data": {
            "text/plain": [
              "shiptype\n",
              "Cargo               1716\n",
              "Dredging              53\n",
              "Fishing              325\n",
              "HSC                   27\n",
              "Law enforcement       20\n",
              "Military              79\n",
              "Passenger            123\n",
              "Pilot                 41\n",
              "Pleasure             414\n",
              "Port tender           12\n",
              "Reserved              12\n",
              "SAR                  123\n",
              "Sailing              215\n",
              "Tanker               642\n",
              "Towing                11\n",
              "Towing long/wide       3\n",
              "Tug                   78\n",
              "Name: mmsi, dtype: int64"
            ]
          },
          "metadata": {},
          "execution_count": 138
        }
      ]
    },
    {
      "cell_type": "code",
      "source": [
        "df.head()"
      ],
      "metadata": {
        "colab": {
          "base_uri": "https://localhost:8080/",
          "height": 206
        },
        "id": "8RO7yJcxA_wr",
        "outputId": "a5087dbf-6805-4d13-fe5c-408d1f74078a"
      },
      "id": "8RO7yJcxA_wr",
      "execution_count": 139,
      "outputs": [
        {
          "output_type": "execute_result",
          "data": {
            "text/plain": [
              "        mmsi navigationalstatus  sog    cog  heading     shiptype  width  \\\n",
              "0  219019621      Unknown value  0.0   86.0     86.0      Fishing    4.0   \n",
              "1  265628170      Unknown value  0.0  334.5      NaN  Port tender    8.0   \n",
              "2  219005719      Unknown value  0.0  208.7      NaN      Fishing    4.0   \n",
              "3  219028066      Unknown value  0.0    NaN      NaN     Pleasure    3.0   \n",
              "4  212584000             Moored  0.0  153.0    106.0        Cargo   13.0   \n",
              "\n",
              "   length  draught  route waypoint  speed  dimension  \n",
              "0     9.0      NaN   86.0      ENE    0.0       36.0  \n",
              "1    27.0      NaN  334.5      NNW    0.0      216.0  \n",
              "2    11.0      NaN  208.7      SSW    0.0       44.0  \n",
              "3    12.0      NaN    NaN      FIX    0.0       36.0  \n",
              "4    99.0      6.3  153.0      SSE    0.0     1287.0  "
            ],
            "text/html": [
              "\n",
              "  <div id=\"df-6d9ea372-01ae-4f47-ab00-652467af535e\">\n",
              "    <div class=\"colab-df-container\">\n",
              "      <div>\n",
              "<style scoped>\n",
              "    .dataframe tbody tr th:only-of-type {\n",
              "        vertical-align: middle;\n",
              "    }\n",
              "\n",
              "    .dataframe tbody tr th {\n",
              "        vertical-align: top;\n",
              "    }\n",
              "\n",
              "    .dataframe thead th {\n",
              "        text-align: right;\n",
              "    }\n",
              "</style>\n",
              "<table border=\"1\" class=\"dataframe\">\n",
              "  <thead>\n",
              "    <tr style=\"text-align: right;\">\n",
              "      <th></th>\n",
              "      <th>mmsi</th>\n",
              "      <th>navigationalstatus</th>\n",
              "      <th>sog</th>\n",
              "      <th>cog</th>\n",
              "      <th>heading</th>\n",
              "      <th>shiptype</th>\n",
              "      <th>width</th>\n",
              "      <th>length</th>\n",
              "      <th>draught</th>\n",
              "      <th>route</th>\n",
              "      <th>waypoint</th>\n",
              "      <th>speed</th>\n",
              "      <th>dimension</th>\n",
              "    </tr>\n",
              "  </thead>\n",
              "  <tbody>\n",
              "    <tr>\n",
              "      <th>0</th>\n",
              "      <td>219019621</td>\n",
              "      <td>Unknown value</td>\n",
              "      <td>0.0</td>\n",
              "      <td>86.0</td>\n",
              "      <td>86.0</td>\n",
              "      <td>Fishing</td>\n",
              "      <td>4.0</td>\n",
              "      <td>9.0</td>\n",
              "      <td>NaN</td>\n",
              "      <td>86.0</td>\n",
              "      <td>ENE</td>\n",
              "      <td>0.0</td>\n",
              "      <td>36.0</td>\n",
              "    </tr>\n",
              "    <tr>\n",
              "      <th>1</th>\n",
              "      <td>265628170</td>\n",
              "      <td>Unknown value</td>\n",
              "      <td>0.0</td>\n",
              "      <td>334.5</td>\n",
              "      <td>NaN</td>\n",
              "      <td>Port tender</td>\n",
              "      <td>8.0</td>\n",
              "      <td>27.0</td>\n",
              "      <td>NaN</td>\n",
              "      <td>334.5</td>\n",
              "      <td>NNW</td>\n",
              "      <td>0.0</td>\n",
              "      <td>216.0</td>\n",
              "    </tr>\n",
              "    <tr>\n",
              "      <th>2</th>\n",
              "      <td>219005719</td>\n",
              "      <td>Unknown value</td>\n",
              "      <td>0.0</td>\n",
              "      <td>208.7</td>\n",
              "      <td>NaN</td>\n",
              "      <td>Fishing</td>\n",
              "      <td>4.0</td>\n",
              "      <td>11.0</td>\n",
              "      <td>NaN</td>\n",
              "      <td>208.7</td>\n",
              "      <td>SSW</td>\n",
              "      <td>0.0</td>\n",
              "      <td>44.0</td>\n",
              "    </tr>\n",
              "    <tr>\n",
              "      <th>3</th>\n",
              "      <td>219028066</td>\n",
              "      <td>Unknown value</td>\n",
              "      <td>0.0</td>\n",
              "      <td>NaN</td>\n",
              "      <td>NaN</td>\n",
              "      <td>Pleasure</td>\n",
              "      <td>3.0</td>\n",
              "      <td>12.0</td>\n",
              "      <td>NaN</td>\n",
              "      <td>NaN</td>\n",
              "      <td>FIX</td>\n",
              "      <td>0.0</td>\n",
              "      <td>36.0</td>\n",
              "    </tr>\n",
              "    <tr>\n",
              "      <th>4</th>\n",
              "      <td>212584000</td>\n",
              "      <td>Moored</td>\n",
              "      <td>0.0</td>\n",
              "      <td>153.0</td>\n",
              "      <td>106.0</td>\n",
              "      <td>Cargo</td>\n",
              "      <td>13.0</td>\n",
              "      <td>99.0</td>\n",
              "      <td>6.3</td>\n",
              "      <td>153.0</td>\n",
              "      <td>SSE</td>\n",
              "      <td>0.0</td>\n",
              "      <td>1287.0</td>\n",
              "    </tr>\n",
              "  </tbody>\n",
              "</table>\n",
              "</div>\n",
              "      <button class=\"colab-df-convert\" onclick=\"convertToInteractive('df-6d9ea372-01ae-4f47-ab00-652467af535e')\"\n",
              "              title=\"Convert this dataframe to an interactive table.\"\n",
              "              style=\"display:none;\">\n",
              "        \n",
              "  <svg xmlns=\"http://www.w3.org/2000/svg\" height=\"24px\"viewBox=\"0 0 24 24\"\n",
              "       width=\"24px\">\n",
              "    <path d=\"M0 0h24v24H0V0z\" fill=\"none\"/>\n",
              "    <path d=\"M18.56 5.44l.94 2.06.94-2.06 2.06-.94-2.06-.94-.94-2.06-.94 2.06-2.06.94zm-11 1L8.5 8.5l.94-2.06 2.06-.94-2.06-.94L8.5 2.5l-.94 2.06-2.06.94zm10 10l.94 2.06.94-2.06 2.06-.94-2.06-.94-.94-2.06-.94 2.06-2.06.94z\"/><path d=\"M17.41 7.96l-1.37-1.37c-.4-.4-.92-.59-1.43-.59-.52 0-1.04.2-1.43.59L10.3 9.45l-7.72 7.72c-.78.78-.78 2.05 0 2.83L4 21.41c.39.39.9.59 1.41.59.51 0 1.02-.2 1.41-.59l7.78-7.78 2.81-2.81c.8-.78.8-2.07 0-2.86zM5.41 20L4 18.59l7.72-7.72 1.47 1.35L5.41 20z\"/>\n",
              "  </svg>\n",
              "      </button>\n",
              "      \n",
              "  <style>\n",
              "    .colab-df-container {\n",
              "      display:flex;\n",
              "      flex-wrap:wrap;\n",
              "      gap: 12px;\n",
              "    }\n",
              "\n",
              "    .colab-df-convert {\n",
              "      background-color: #E8F0FE;\n",
              "      border: none;\n",
              "      border-radius: 50%;\n",
              "      cursor: pointer;\n",
              "      display: none;\n",
              "      fill: #1967D2;\n",
              "      height: 32px;\n",
              "      padding: 0 0 0 0;\n",
              "      width: 32px;\n",
              "    }\n",
              "\n",
              "    .colab-df-convert:hover {\n",
              "      background-color: #E2EBFA;\n",
              "      box-shadow: 0px 1px 2px rgba(60, 64, 67, 0.3), 0px 1px 3px 1px rgba(60, 64, 67, 0.15);\n",
              "      fill: #174EA6;\n",
              "    }\n",
              "\n",
              "    [theme=dark] .colab-df-convert {\n",
              "      background-color: #3B4455;\n",
              "      fill: #D2E3FC;\n",
              "    }\n",
              "\n",
              "    [theme=dark] .colab-df-convert:hover {\n",
              "      background-color: #434B5C;\n",
              "      box-shadow: 0px 1px 3px 1px rgba(0, 0, 0, 0.15);\n",
              "      filter: drop-shadow(0px 1px 2px rgba(0, 0, 0, 0.3));\n",
              "      fill: #FFFFFF;\n",
              "    }\n",
              "  </style>\n",
              "\n",
              "      <script>\n",
              "        const buttonEl =\n",
              "          document.querySelector('#df-6d9ea372-01ae-4f47-ab00-652467af535e button.colab-df-convert');\n",
              "        buttonEl.style.display =\n",
              "          google.colab.kernel.accessAllowed ? 'block' : 'none';\n",
              "\n",
              "        async function convertToInteractive(key) {\n",
              "          const element = document.querySelector('#df-6d9ea372-01ae-4f47-ab00-652467af535e');\n",
              "          const dataTable =\n",
              "            await google.colab.kernel.invokeFunction('convertToInteractive',\n",
              "                                                     [key], {});\n",
              "          if (!dataTable) return;\n",
              "\n",
              "          const docLinkHtml = 'Like what you see? Visit the ' +\n",
              "            '<a target=\"_blank\" href=https://colab.research.google.com/notebooks/data_table.ipynb>data table notebook</a>'\n",
              "            + ' to learn more about interactive tables.';\n",
              "          element.innerHTML = '';\n",
              "          dataTable['output_type'] = 'display_data';\n",
              "          await google.colab.output.renderOutput(dataTable, element);\n",
              "          const docLink = document.createElement('div');\n",
              "          docLink.innerHTML = docLinkHtml;\n",
              "          element.appendChild(docLink);\n",
              "        }\n",
              "      </script>\n",
              "    </div>\n",
              "  </div>\n",
              "  "
            ]
          },
          "metadata": {},
          "execution_count": 139
        }
      ]
    },
    {
      "cell_type": "code",
      "source": [
        "df.drop(['cog','heading','route','sog','mmsi'],axis=1,inplace=True)"
      ],
      "metadata": {
        "id": "S0td1_ln6AZm"
      },
      "id": "S0td1_ln6AZm",
      "execution_count": 140,
      "outputs": []
    },
    {
      "cell_type": "code",
      "source": [
        "df.head()"
      ],
      "metadata": {
        "colab": {
          "base_uri": "https://localhost:8080/",
          "height": 206
        },
        "id": "FKiMAk3sZtMm",
        "outputId": "e745effc-02e4-4134-f06c-3a171d2b603a"
      },
      "id": "FKiMAk3sZtMm",
      "execution_count": 141,
      "outputs": [
        {
          "output_type": "execute_result",
          "data": {
            "text/plain": [
              "  navigationalstatus     shiptype  width  length  draught waypoint  speed  \\\n",
              "0      Unknown value      Fishing    4.0     9.0      NaN      ENE    0.0   \n",
              "1      Unknown value  Port tender    8.0    27.0      NaN      NNW    0.0   \n",
              "2      Unknown value      Fishing    4.0    11.0      NaN      SSW    0.0   \n",
              "3      Unknown value     Pleasure    3.0    12.0      NaN      FIX    0.0   \n",
              "4             Moored        Cargo   13.0    99.0      6.3      SSE    0.0   \n",
              "\n",
              "   dimension  \n",
              "0       36.0  \n",
              "1      216.0  \n",
              "2       44.0  \n",
              "3       36.0  \n",
              "4     1287.0  "
            ],
            "text/html": [
              "\n",
              "  <div id=\"df-a3575517-cad4-43a4-8af5-01ff8c84a610\">\n",
              "    <div class=\"colab-df-container\">\n",
              "      <div>\n",
              "<style scoped>\n",
              "    .dataframe tbody tr th:only-of-type {\n",
              "        vertical-align: middle;\n",
              "    }\n",
              "\n",
              "    .dataframe tbody tr th {\n",
              "        vertical-align: top;\n",
              "    }\n",
              "\n",
              "    .dataframe thead th {\n",
              "        text-align: right;\n",
              "    }\n",
              "</style>\n",
              "<table border=\"1\" class=\"dataframe\">\n",
              "  <thead>\n",
              "    <tr style=\"text-align: right;\">\n",
              "      <th></th>\n",
              "      <th>navigationalstatus</th>\n",
              "      <th>shiptype</th>\n",
              "      <th>width</th>\n",
              "      <th>length</th>\n",
              "      <th>draught</th>\n",
              "      <th>waypoint</th>\n",
              "      <th>speed</th>\n",
              "      <th>dimension</th>\n",
              "    </tr>\n",
              "  </thead>\n",
              "  <tbody>\n",
              "    <tr>\n",
              "      <th>0</th>\n",
              "      <td>Unknown value</td>\n",
              "      <td>Fishing</td>\n",
              "      <td>4.0</td>\n",
              "      <td>9.0</td>\n",
              "      <td>NaN</td>\n",
              "      <td>ENE</td>\n",
              "      <td>0.0</td>\n",
              "      <td>36.0</td>\n",
              "    </tr>\n",
              "    <tr>\n",
              "      <th>1</th>\n",
              "      <td>Unknown value</td>\n",
              "      <td>Port tender</td>\n",
              "      <td>8.0</td>\n",
              "      <td>27.0</td>\n",
              "      <td>NaN</td>\n",
              "      <td>NNW</td>\n",
              "      <td>0.0</td>\n",
              "      <td>216.0</td>\n",
              "    </tr>\n",
              "    <tr>\n",
              "      <th>2</th>\n",
              "      <td>Unknown value</td>\n",
              "      <td>Fishing</td>\n",
              "      <td>4.0</td>\n",
              "      <td>11.0</td>\n",
              "      <td>NaN</td>\n",
              "      <td>SSW</td>\n",
              "      <td>0.0</td>\n",
              "      <td>44.0</td>\n",
              "    </tr>\n",
              "    <tr>\n",
              "      <th>3</th>\n",
              "      <td>Unknown value</td>\n",
              "      <td>Pleasure</td>\n",
              "      <td>3.0</td>\n",
              "      <td>12.0</td>\n",
              "      <td>NaN</td>\n",
              "      <td>FIX</td>\n",
              "      <td>0.0</td>\n",
              "      <td>36.0</td>\n",
              "    </tr>\n",
              "    <tr>\n",
              "      <th>4</th>\n",
              "      <td>Moored</td>\n",
              "      <td>Cargo</td>\n",
              "      <td>13.0</td>\n",
              "      <td>99.0</td>\n",
              "      <td>6.3</td>\n",
              "      <td>SSE</td>\n",
              "      <td>0.0</td>\n",
              "      <td>1287.0</td>\n",
              "    </tr>\n",
              "  </tbody>\n",
              "</table>\n",
              "</div>\n",
              "      <button class=\"colab-df-convert\" onclick=\"convertToInteractive('df-a3575517-cad4-43a4-8af5-01ff8c84a610')\"\n",
              "              title=\"Convert this dataframe to an interactive table.\"\n",
              "              style=\"display:none;\">\n",
              "        \n",
              "  <svg xmlns=\"http://www.w3.org/2000/svg\" height=\"24px\"viewBox=\"0 0 24 24\"\n",
              "       width=\"24px\">\n",
              "    <path d=\"M0 0h24v24H0V0z\" fill=\"none\"/>\n",
              "    <path d=\"M18.56 5.44l.94 2.06.94-2.06 2.06-.94-2.06-.94-.94-2.06-.94 2.06-2.06.94zm-11 1L8.5 8.5l.94-2.06 2.06-.94-2.06-.94L8.5 2.5l-.94 2.06-2.06.94zm10 10l.94 2.06.94-2.06 2.06-.94-2.06-.94-.94-2.06-.94 2.06-2.06.94z\"/><path d=\"M17.41 7.96l-1.37-1.37c-.4-.4-.92-.59-1.43-.59-.52 0-1.04.2-1.43.59L10.3 9.45l-7.72 7.72c-.78.78-.78 2.05 0 2.83L4 21.41c.39.39.9.59 1.41.59.51 0 1.02-.2 1.41-.59l7.78-7.78 2.81-2.81c.8-.78.8-2.07 0-2.86zM5.41 20L4 18.59l7.72-7.72 1.47 1.35L5.41 20z\"/>\n",
              "  </svg>\n",
              "      </button>\n",
              "      \n",
              "  <style>\n",
              "    .colab-df-container {\n",
              "      display:flex;\n",
              "      flex-wrap:wrap;\n",
              "      gap: 12px;\n",
              "    }\n",
              "\n",
              "    .colab-df-convert {\n",
              "      background-color: #E8F0FE;\n",
              "      border: none;\n",
              "      border-radius: 50%;\n",
              "      cursor: pointer;\n",
              "      display: none;\n",
              "      fill: #1967D2;\n",
              "      height: 32px;\n",
              "      padding: 0 0 0 0;\n",
              "      width: 32px;\n",
              "    }\n",
              "\n",
              "    .colab-df-convert:hover {\n",
              "      background-color: #E2EBFA;\n",
              "      box-shadow: 0px 1px 2px rgba(60, 64, 67, 0.3), 0px 1px 3px 1px rgba(60, 64, 67, 0.15);\n",
              "      fill: #174EA6;\n",
              "    }\n",
              "\n",
              "    [theme=dark] .colab-df-convert {\n",
              "      background-color: #3B4455;\n",
              "      fill: #D2E3FC;\n",
              "    }\n",
              "\n",
              "    [theme=dark] .colab-df-convert:hover {\n",
              "      background-color: #434B5C;\n",
              "      box-shadow: 0px 1px 3px 1px rgba(0, 0, 0, 0.15);\n",
              "      filter: drop-shadow(0px 1px 2px rgba(0, 0, 0, 0.3));\n",
              "      fill: #FFFFFF;\n",
              "    }\n",
              "  </style>\n",
              "\n",
              "      <script>\n",
              "        const buttonEl =\n",
              "          document.querySelector('#df-a3575517-cad4-43a4-8af5-01ff8c84a610 button.colab-df-convert');\n",
              "        buttonEl.style.display =\n",
              "          google.colab.kernel.accessAllowed ? 'block' : 'none';\n",
              "\n",
              "        async function convertToInteractive(key) {\n",
              "          const element = document.querySelector('#df-a3575517-cad4-43a4-8af5-01ff8c84a610');\n",
              "          const dataTable =\n",
              "            await google.colab.kernel.invokeFunction('convertToInteractive',\n",
              "                                                     [key], {});\n",
              "          if (!dataTable) return;\n",
              "\n",
              "          const docLinkHtml = 'Like what you see? Visit the ' +\n",
              "            '<a target=\"_blank\" href=https://colab.research.google.com/notebooks/data_table.ipynb>data table notebook</a>'\n",
              "            + ' to learn more about interactive tables.';\n",
              "          element.innerHTML = '';\n",
              "          dataTable['output_type'] = 'display_data';\n",
              "          await google.colab.output.renderOutput(dataTable, element);\n",
              "          const docLink = document.createElement('div');\n",
              "          docLink.innerHTML = docLinkHtml;\n",
              "          element.appendChild(docLink);\n",
              "        }\n",
              "      </script>\n",
              "    </div>\n",
              "  </div>\n",
              "  "
            ]
          },
          "metadata": {},
          "execution_count": 141
        }
      ]
    },
    {
      "cell_type": "code",
      "execution_count": 142,
      "id": "a6747867",
      "metadata": {
        "colab": {
          "base_uri": "https://localhost:8080/"
        },
        "execution": {
          "iopub.execute_input": "2022-04-08T08:20:21.492427Z",
          "iopub.status.busy": "2022-04-08T08:20:21.491790Z",
          "iopub.status.idle": "2022-04-08T08:20:21.502666Z",
          "shell.execute_reply": "2022-04-08T08:20:21.503157Z",
          "shell.execute_reply.started": "2022-04-07T13:26:41.619925Z"
        },
        "id": "a6747867",
        "outputId": "6a42a029-7f6e-4f9e-b511-0657eab7217e",
        "papermill": {
          "duration": 0.077447,
          "end_time": "2022-04-08T08:20:21.503366",
          "exception": false,
          "start_time": "2022-04-08T08:20:21.425919",
          "status": "completed"
        },
        "tags": []
      },
      "outputs": [
        {
          "output_type": "stream",
          "name": "stdout",
          "text": [
            "Observations: 3894\n",
            "Variables: 8\n",
            "cat_cols: 3\n",
            "num_cols: 5\n",
            "cat_but_car: 0\n",
            "num_but_cat: 0\n"
          ]
        }
      ],
      "source": [
        "# taking account for the new variables\n",
        "cat_cols, num_cols, cat_but_car = grab_col_names(df) "
      ]
    },
    {
      "cell_type": "markdown",
      "source": [],
      "metadata": {
        "id": "u_IAGJhqzm1S"
      },
      "id": "u_IAGJhqzm1S"
    },
    {
      "cell_type": "code",
      "execution_count": 144,
      "id": "6ebc732d",
      "metadata": {
        "colab": {
          "base_uri": "https://localhost:8080/"
        },
        "execution": {
          "iopub.execute_input": "2022-04-08T08:20:21.650339Z",
          "iopub.status.busy": "2022-04-08T08:20:21.631714Z",
          "iopub.status.idle": "2022-04-08T08:20:21.655359Z",
          "shell.execute_reply": "2022-04-08T08:20:21.654841Z",
          "shell.execute_reply.started": "2022-04-07T13:26:41.756095Z"
        },
        "id": "6ebc732d",
        "outputId": "36c88eff-92cc-4e5c-d853-b372908fd5ae",
        "papermill": {
          "duration": 0.089413,
          "end_time": "2022-04-08T08:20:21.655503",
          "exception": false,
          "start_time": "2022-04-08T08:20:21.566090",
          "status": "completed"
        },
        "tags": []
      },
      "outputs": [
        {
          "output_type": "stream",
          "name": "stdout",
          "text": [
            "                                                    navigationalstatus  \\\n",
            "Under way using engine                                            2587   \n",
            "Unknown value                                                      926   \n",
            "Moored                                                             130   \n",
            "Engaged in fishing                                                 100   \n",
            "Constrained by her draught                                          81   \n",
            "Restricted maneuverability                                          21   \n",
            "At anchor                                                           20   \n",
            "Under way sailing                                                   17   \n",
            "Reserved for future amendment [HSC]                                  5   \n",
            "Not under command                                                    3   \n",
            "Power-driven vessel towing astern                                    2   \n",
            "Reserved for future amendment [WIG]                                  1   \n",
            "Power-driven vessel pushing ahead or towing alo...                   1   \n",
            "\n",
            "                                                        Ratio  \n",
            "Under way using engine                              66.435542  \n",
            "Unknown value                                       23.780175  \n",
            "Moored                                               3.338469  \n",
            "Engaged in fishing                                   2.568053  \n",
            "Constrained by her draught                           2.080123  \n",
            "Restricted maneuverability                           0.539291  \n",
            "At anchor                                            0.513611  \n",
            "Under way sailing                                    0.436569  \n",
            "Reserved for future amendment [HSC]                  0.128403  \n",
            "Not under command                                    0.077042  \n",
            "Power-driven vessel towing astern                    0.051361  \n",
            "Reserved for future amendment [WIG]                  0.025681  \n",
            "Power-driven vessel pushing ahead or towing alo...   0.025681  \n",
            "##########################################\n",
            "                  shiptype      Ratio\n",
            "Cargo                 1716  44.067797\n",
            "Tanker                 642  16.486903\n",
            "Pleasure               414  10.631741\n",
            "Fishing                325   8.346174\n",
            "Sailing                215   5.521315\n",
            "SAR                    123   3.158706\n",
            "Passenger              123   3.158706\n",
            "Military                79   2.028762\n",
            "Tug                     78   2.003082\n",
            "Dredging                53   1.361068\n",
            "Pilot                   41   1.052902\n",
            "HSC                     27   0.693374\n",
            "Law enforcement         20   0.513611\n",
            "Port tender             12   0.308166\n",
            "Reserved                12   0.308166\n",
            "Towing                  11   0.282486\n",
            "Towing long/wide         3   0.077042\n",
            "##########################################\n",
            "     waypoint      Ratio\n",
            "SSE       688  17.668207\n",
            "NNW       659  16.923472\n",
            "ESE       616  15.819209\n",
            "NNE       612  15.716487\n",
            "ENE       485  12.455059\n",
            "SSW       307   7.883924\n",
            "FIX       243   6.240370\n",
            "WSW       166   4.262969\n",
            "WNW       115   2.953261\n",
            "##########################################\n"
          ]
        }
      ],
      "source": [
        "def cat_summary(dataframe, col_name, plot=False):\n",
        "    print(pd.DataFrame({col_name: dataframe[col_name].value_counts(),\n",
        "                        \"Ratio\": 100 * dataframe[col_name].value_counts() / len(dataframe)}))\n",
        "    print(\"##########################################\")\n",
        "    if plot:\n",
        "        sns.countplot(x=dataframe[col_name], data=dataframe)\n",
        "        plt.show()\n",
        "\n",
        "for col in cat_cols:\n",
        "    cat_summary(df, col)"
      ]
    },
    {
      "cell_type": "markdown",
      "id": "214a384d",
      "metadata": {
        "id": "214a384d",
        "papermill": {
          "duration": 0.063246,
          "end_time": "2022-04-08T08:20:21.782153",
          "exception": false,
          "start_time": "2022-04-08T08:20:21.718907",
          "status": "completed"
        },
        "tags": []
      },
      "source": [
        "In our dataset, there are rare values in categorical variables. We will group these classes if they are lower than %2 "
      ]
    },
    {
      "cell_type": "code",
      "execution_count": 145,
      "id": "28516b9a",
      "metadata": {
        "execution": {
          "iopub.execute_input": "2022-04-08T08:20:21.913677Z",
          "iopub.status.busy": "2022-04-08T08:20:21.912925Z",
          "iopub.status.idle": "2022-04-08T08:20:21.928869Z",
          "shell.execute_reply": "2022-04-08T08:20:21.929410Z",
          "shell.execute_reply.started": "2022-04-07T13:26:41.889595Z"
        },
        "id": "28516b9a",
        "papermill": {
          "duration": 0.082784,
          "end_time": "2022-04-08T08:20:21.929587",
          "exception": false,
          "start_time": "2022-04-08T08:20:21.846803",
          "status": "completed"
        },
        "tags": []
      },
      "outputs": [],
      "source": [
        "def rare_encoder(dataframe, rare_perc):\n",
        "    temp_df = dataframe.copy()\n",
        "    rare_columns = [col for col in temp_df.columns if temp_df[col].dtypes == 'O'\n",
        "                    and (temp_df[col].value_counts() / len(temp_df) < rare_perc).any(axis=None)]\n",
        "    for var in rare_columns:\n",
        "        tmp = temp_df[var].value_counts() / len(temp_df)\n",
        "        rare_labels = tmp[tmp < rare_perc].index\n",
        "        temp_df[var] = np.where(temp_df[var].isin(rare_labels), 'Rare', temp_df[var])\n",
        "    return temp_df\n",
        "\n",
        "df = rare_encoder(df, 0.02) # Less than %2 ratio will be grouped\n"
      ]
    },
    {
      "cell_type": "code",
      "execution_count": 146,
      "id": "20b61dc6",
      "metadata": {
        "execution": {
          "iopub.execute_input": "2022-04-08T08:20:22.061026Z",
          "iopub.status.busy": "2022-04-08T08:20:22.060396Z",
          "iopub.status.idle": "2022-04-08T08:20:22.068591Z",
          "shell.execute_reply": "2022-04-08T08:20:22.068016Z",
          "shell.execute_reply.started": "2022-04-07T13:26:41.973013Z"
        },
        "id": "20b61dc6",
        "papermill": {
          "duration": 0.075005,
          "end_time": "2022-04-08T08:20:22.068738",
          "exception": false,
          "start_time": "2022-04-08T08:20:21.993733",
          "status": "completed"
        },
        "tags": []
      },
      "outputs": [],
      "source": [
        " # combining the 'Unknown value' and 'Rare' groups at 'navigationalstatus' variable\n",
        "df['status'] = df['navigationalstatus'].where(~((df['navigationalstatus']=='Unknown value') | (df['navigationalstatus']=='Rare')), 'Other')"
      ]
    },
    {
      "cell_type": "markdown",
      "id": "82bec455",
      "metadata": {
        "id": "82bec455",
        "papermill": {
          "duration": 0.063291,
          "end_time": "2022-04-08T08:20:22.195130",
          "exception": false,
          "start_time": "2022-04-08T08:20:22.131839",
          "status": "completed"
        },
        "tags": []
      },
      "source": [
        "Since we make new variable from ‘navigationalstatus’, we will disregard this variable. Also if we remember there are high corrrelations between ‘dimension’, ‘width’ and ‘length’. So we will disregard ‘width’ and ‘length’ variables."
      ]
    },
    {
      "cell_type": "code",
      "source": [
        "df.head()"
      ],
      "metadata": {
        "colab": {
          "base_uri": "https://localhost:8080/",
          "height": 206
        },
        "id": "xBO0N4J_BYBD",
        "outputId": "e8f5078e-4b44-45f2-94d0-296775923da0"
      },
      "id": "xBO0N4J_BYBD",
      "execution_count": 147,
      "outputs": [
        {
          "output_type": "execute_result",
          "data": {
            "text/plain": [
              "  navigationalstatus  shiptype  width  length  draught waypoint  speed  \\\n",
              "0      Unknown value   Fishing    4.0     9.0      NaN      ENE    0.0   \n",
              "1      Unknown value      Rare    8.0    27.0      NaN      NNW    0.0   \n",
              "2      Unknown value   Fishing    4.0    11.0      NaN      SSW    0.0   \n",
              "3      Unknown value  Pleasure    3.0    12.0      NaN      FIX    0.0   \n",
              "4             Moored     Cargo   13.0    99.0      6.3      SSE    0.0   \n",
              "\n",
              "   dimension  status  \n",
              "0       36.0   Other  \n",
              "1      216.0   Other  \n",
              "2       44.0   Other  \n",
              "3       36.0   Other  \n",
              "4     1287.0  Moored  "
            ],
            "text/html": [
              "\n",
              "  <div id=\"df-b88bd426-9507-459e-8157-6d88313d2130\">\n",
              "    <div class=\"colab-df-container\">\n",
              "      <div>\n",
              "<style scoped>\n",
              "    .dataframe tbody tr th:only-of-type {\n",
              "        vertical-align: middle;\n",
              "    }\n",
              "\n",
              "    .dataframe tbody tr th {\n",
              "        vertical-align: top;\n",
              "    }\n",
              "\n",
              "    .dataframe thead th {\n",
              "        text-align: right;\n",
              "    }\n",
              "</style>\n",
              "<table border=\"1\" class=\"dataframe\">\n",
              "  <thead>\n",
              "    <tr style=\"text-align: right;\">\n",
              "      <th></th>\n",
              "      <th>navigationalstatus</th>\n",
              "      <th>shiptype</th>\n",
              "      <th>width</th>\n",
              "      <th>length</th>\n",
              "      <th>draught</th>\n",
              "      <th>waypoint</th>\n",
              "      <th>speed</th>\n",
              "      <th>dimension</th>\n",
              "      <th>status</th>\n",
              "    </tr>\n",
              "  </thead>\n",
              "  <tbody>\n",
              "    <tr>\n",
              "      <th>0</th>\n",
              "      <td>Unknown value</td>\n",
              "      <td>Fishing</td>\n",
              "      <td>4.0</td>\n",
              "      <td>9.0</td>\n",
              "      <td>NaN</td>\n",
              "      <td>ENE</td>\n",
              "      <td>0.0</td>\n",
              "      <td>36.0</td>\n",
              "      <td>Other</td>\n",
              "    </tr>\n",
              "    <tr>\n",
              "      <th>1</th>\n",
              "      <td>Unknown value</td>\n",
              "      <td>Rare</td>\n",
              "      <td>8.0</td>\n",
              "      <td>27.0</td>\n",
              "      <td>NaN</td>\n",
              "      <td>NNW</td>\n",
              "      <td>0.0</td>\n",
              "      <td>216.0</td>\n",
              "      <td>Other</td>\n",
              "    </tr>\n",
              "    <tr>\n",
              "      <th>2</th>\n",
              "      <td>Unknown value</td>\n",
              "      <td>Fishing</td>\n",
              "      <td>4.0</td>\n",
              "      <td>11.0</td>\n",
              "      <td>NaN</td>\n",
              "      <td>SSW</td>\n",
              "      <td>0.0</td>\n",
              "      <td>44.0</td>\n",
              "      <td>Other</td>\n",
              "    </tr>\n",
              "    <tr>\n",
              "      <th>3</th>\n",
              "      <td>Unknown value</td>\n",
              "      <td>Pleasure</td>\n",
              "      <td>3.0</td>\n",
              "      <td>12.0</td>\n",
              "      <td>NaN</td>\n",
              "      <td>FIX</td>\n",
              "      <td>0.0</td>\n",
              "      <td>36.0</td>\n",
              "      <td>Other</td>\n",
              "    </tr>\n",
              "    <tr>\n",
              "      <th>4</th>\n",
              "      <td>Moored</td>\n",
              "      <td>Cargo</td>\n",
              "      <td>13.0</td>\n",
              "      <td>99.0</td>\n",
              "      <td>6.3</td>\n",
              "      <td>SSE</td>\n",
              "      <td>0.0</td>\n",
              "      <td>1287.0</td>\n",
              "      <td>Moored</td>\n",
              "    </tr>\n",
              "  </tbody>\n",
              "</table>\n",
              "</div>\n",
              "      <button class=\"colab-df-convert\" onclick=\"convertToInteractive('df-b88bd426-9507-459e-8157-6d88313d2130')\"\n",
              "              title=\"Convert this dataframe to an interactive table.\"\n",
              "              style=\"display:none;\">\n",
              "        \n",
              "  <svg xmlns=\"http://www.w3.org/2000/svg\" height=\"24px\"viewBox=\"0 0 24 24\"\n",
              "       width=\"24px\">\n",
              "    <path d=\"M0 0h24v24H0V0z\" fill=\"none\"/>\n",
              "    <path d=\"M18.56 5.44l.94 2.06.94-2.06 2.06-.94-2.06-.94-.94-2.06-.94 2.06-2.06.94zm-11 1L8.5 8.5l.94-2.06 2.06-.94-2.06-.94L8.5 2.5l-.94 2.06-2.06.94zm10 10l.94 2.06.94-2.06 2.06-.94-2.06-.94-.94-2.06-.94 2.06-2.06.94z\"/><path d=\"M17.41 7.96l-1.37-1.37c-.4-.4-.92-.59-1.43-.59-.52 0-1.04.2-1.43.59L10.3 9.45l-7.72 7.72c-.78.78-.78 2.05 0 2.83L4 21.41c.39.39.9.59 1.41.59.51 0 1.02-.2 1.41-.59l7.78-7.78 2.81-2.81c.8-.78.8-2.07 0-2.86zM5.41 20L4 18.59l7.72-7.72 1.47 1.35L5.41 20z\"/>\n",
              "  </svg>\n",
              "      </button>\n",
              "      \n",
              "  <style>\n",
              "    .colab-df-container {\n",
              "      display:flex;\n",
              "      flex-wrap:wrap;\n",
              "      gap: 12px;\n",
              "    }\n",
              "\n",
              "    .colab-df-convert {\n",
              "      background-color: #E8F0FE;\n",
              "      border: none;\n",
              "      border-radius: 50%;\n",
              "      cursor: pointer;\n",
              "      display: none;\n",
              "      fill: #1967D2;\n",
              "      height: 32px;\n",
              "      padding: 0 0 0 0;\n",
              "      width: 32px;\n",
              "    }\n",
              "\n",
              "    .colab-df-convert:hover {\n",
              "      background-color: #E2EBFA;\n",
              "      box-shadow: 0px 1px 2px rgba(60, 64, 67, 0.3), 0px 1px 3px 1px rgba(60, 64, 67, 0.15);\n",
              "      fill: #174EA6;\n",
              "    }\n",
              "\n",
              "    [theme=dark] .colab-df-convert {\n",
              "      background-color: #3B4455;\n",
              "      fill: #D2E3FC;\n",
              "    }\n",
              "\n",
              "    [theme=dark] .colab-df-convert:hover {\n",
              "      background-color: #434B5C;\n",
              "      box-shadow: 0px 1px 3px 1px rgba(0, 0, 0, 0.15);\n",
              "      filter: drop-shadow(0px 1px 2px rgba(0, 0, 0, 0.3));\n",
              "      fill: #FFFFFF;\n",
              "    }\n",
              "  </style>\n",
              "\n",
              "      <script>\n",
              "        const buttonEl =\n",
              "          document.querySelector('#df-b88bd426-9507-459e-8157-6d88313d2130 button.colab-df-convert');\n",
              "        buttonEl.style.display =\n",
              "          google.colab.kernel.accessAllowed ? 'block' : 'none';\n",
              "\n",
              "        async function convertToInteractive(key) {\n",
              "          const element = document.querySelector('#df-b88bd426-9507-459e-8157-6d88313d2130');\n",
              "          const dataTable =\n",
              "            await google.colab.kernel.invokeFunction('convertToInteractive',\n",
              "                                                     [key], {});\n",
              "          if (!dataTable) return;\n",
              "\n",
              "          const docLinkHtml = 'Like what you see? Visit the ' +\n",
              "            '<a target=\"_blank\" href=https://colab.research.google.com/notebooks/data_table.ipynb>data table notebook</a>'\n",
              "            + ' to learn more about interactive tables.';\n",
              "          element.innerHTML = '';\n",
              "          dataTable['output_type'] = 'display_data';\n",
              "          await google.colab.output.renderOutput(dataTable, element);\n",
              "          const docLink = document.createElement('div');\n",
              "          docLink.innerHTML = docLinkHtml;\n",
              "          element.appendChild(docLink);\n",
              "        }\n",
              "      </script>\n",
              "    </div>\n",
              "  </div>\n",
              "  "
            ]
          },
          "metadata": {},
          "execution_count": 147
        }
      ]
    },
    {
      "cell_type": "code",
      "execution_count": 148,
      "id": "7ca29769",
      "metadata": {
        "colab": {
          "base_uri": "https://localhost:8080/"
        },
        "execution": {
          "iopub.execute_input": "2022-04-08T08:20:22.325085Z",
          "iopub.status.busy": "2022-04-08T08:20:22.324469Z",
          "iopub.status.idle": "2022-04-08T08:20:22.336397Z",
          "shell.execute_reply": "2022-04-08T08:20:22.336896Z",
          "shell.execute_reply.started": "2022-04-07T13:26:42.061077Z"
        },
        "id": "7ca29769",
        "outputId": "1e55611c-cca4-4a9b-dbff-11ac93949a24",
        "papermill": {
          "duration": 0.078587,
          "end_time": "2022-04-08T08:20:22.337063",
          "exception": false,
          "start_time": "2022-04-08T08:20:22.258476",
          "status": "completed"
        },
        "tags": []
      },
      "outputs": [
        {
          "output_type": "stream",
          "name": "stdout",
          "text": [
            "Observations: 3894\n",
            "Variables: 6\n",
            "cat_cols: 1\n",
            "num_cols: 5\n",
            "cat_but_car: 0\n",
            "num_but_cat: 0\n"
          ]
        }
      ],
      "source": [
        "df.drop(['navigationalstatus', 'waypoint', 'status'], axis=1, inplace=True)\n",
        "cat_cols, num_cols, cat_but_car = grab_col_names(df)"
      ]
    },
    {
      "cell_type": "code",
      "execution_count": 149,
      "id": "96503c6c",
      "metadata": {
        "colab": {
          "base_uri": "https://localhost:8080/"
        },
        "execution": {
          "iopub.execute_input": "2022-04-08T08:20:22.468231Z",
          "iopub.status.busy": "2022-04-08T08:20:22.467601Z",
          "iopub.status.idle": "2022-04-08T08:20:22.486513Z",
          "shell.execute_reply": "2022-04-08T08:20:22.486969Z",
          "shell.execute_reply.started": "2022-04-07T13:26:42.129746Z"
        },
        "id": "96503c6c",
        "outputId": "2b9c12bb-af5d-43c7-f9b6-31d70c3e937b",
        "papermill": {
          "duration": 0.085794,
          "end_time": "2022-04-08T08:20:22.487141",
          "exception": false,
          "start_time": "2022-04-08T08:20:22.401347",
          "status": "completed"
        },
        "tags": []
      },
      "outputs": [
        {
          "output_type": "stream",
          "name": "stdout",
          "text": [
            "           shiptype      Ratio\n",
            "Cargo          1716  44.067797\n",
            "Tanker          642  16.486903\n",
            "Pleasure        414  10.631741\n",
            "Fishing         325   8.346174\n",
            "Sailing         215   5.521315\n",
            "Rare            179   4.596816\n",
            "Passenger       123   3.158706\n",
            "SAR             123   3.158706\n",
            "Military         79   2.028762\n",
            "Tug              78   2.003082\n",
            "##########################################\n"
          ]
        }
      ],
      "source": [
        "# with rare class\n",
        "for col in cat_cols:\n",
        "    cat_summary(df, col)"
      ]
    },
    {
      "cell_type": "code",
      "execution_count": 150,
      "id": "3a201849",
      "metadata": {
        "execution": {
          "iopub.execute_input": "2022-04-08T08:20:22.621332Z",
          "iopub.status.busy": "2022-04-08T08:20:22.620669Z",
          "iopub.status.idle": "2022-04-08T08:20:22.623209Z",
          "shell.execute_reply": "2022-04-08T08:20:22.623674Z",
          "shell.execute_reply.started": "2022-04-07T13:26:42.19765Z"
        },
        "id": "3a201849",
        "papermill": {
          "duration": 0.072741,
          "end_time": "2022-04-08T08:20:22.623865",
          "exception": false,
          "start_time": "2022-04-08T08:20:22.551124",
          "status": "completed"
        },
        "tags": []
      },
      "outputs": [],
      "source": [
        "# Splitting data as an output and predictors;\n",
        "y = df['shiptype']\n",
        "X= df.drop('shiptype', axis=1)"
      ]
    },
    {
      "cell_type": "code",
      "execution_count": 151,
      "id": "dcc566d2",
      "metadata": {
        "execution": {
          "iopub.execute_input": "2022-04-08T08:20:23.064228Z",
          "iopub.status.busy": "2022-04-08T08:20:23.063554Z",
          "iopub.status.idle": "2022-04-08T08:20:23.077970Z",
          "shell.execute_reply": "2022-04-08T08:20:23.078650Z",
          "shell.execute_reply.started": "2022-04-07T13:26:42.374262Z"
        },
        "id": "dcc566d2",
        "papermill": {
          "duration": 0.10338,
          "end_time": "2022-04-08T08:20:23.078847",
          "exception": false,
          "start_time": "2022-04-08T08:20:22.975467",
          "status": "completed"
        },
        "tags": []
      },
      "outputs": [],
      "source": [
        "scaler = RobustScaler()\n",
        "X = pd.DataFrame(scaler.fit_transform(X), columns=X.columns)"
      ]
    },
    {
      "cell_type": "code",
      "execution_count": 152,
      "id": "24nn96BIy8Ah",
      "metadata": {
        "id": "24nn96BIy8Ah"
      },
      "outputs": [],
      "source": [
        "X.replace([np.inf, -np.inf], np.nan, inplace=True)"
      ]
    },
    {
      "cell_type": "code",
      "source": [
        "X['dimension']=X['dimension'].replace(np.NaN,df['dimension'].mean())\n",
        "X['draught']=X['draught'].replace(np.NaN,df['draught'].mean())\n",
        "X['speed']=X['speed'].replace(np.NaN,df['speed'].mean())\n",
        "X['width']=X['width'].replace(np.NaN,df['width'].mean())\n",
        "X['length']=X['length'].replace(np.NaN,df['length'].mean())\n"
      ],
      "metadata": {
        "id": "PWdpZSEFvcOA"
      },
      "id": "PWdpZSEFvcOA",
      "execution_count": 153,
      "outputs": []
    },
    {
      "cell_type": "code",
      "execution_count": 154,
      "id": "TGiNi4RWyee7",
      "metadata": {
        "colab": {
          "base_uri": "https://localhost:8080/"
        },
        "id": "TGiNi4RWyee7",
        "outputId": "a836613d-9df4-45e3-8006-428fdf182139"
      },
      "outputs": [
        {
          "output_type": "execute_result",
          "data": {
            "text/plain": [
              "width        0\n",
              "length       0\n",
              "draught      0\n",
              "speed        0\n",
              "dimension    0\n",
              "dtype: int64"
            ]
          },
          "metadata": {},
          "execution_count": 154
        }
      ],
      "source": [
        "X.isna().sum()"
      ]
    },
    {
      "cell_type": "code",
      "source": [
        "df=df.dropna(axis=0)"
      ],
      "metadata": {
        "id": "VZpq74ChSV4P"
      },
      "id": "VZpq74ChSV4P",
      "execution_count": 155,
      "outputs": []
    },
    {
      "cell_type": "code",
      "source": [
        "X.isna().sum()"
      ],
      "metadata": {
        "colab": {
          "base_uri": "https://localhost:8080/"
        },
        "id": "cCLIZ0E5TB4b",
        "outputId": "7f7b862d-074c-4f47-96da-2cf2016f64cf"
      },
      "id": "cCLIZ0E5TB4b",
      "execution_count": 156,
      "outputs": [
        {
          "output_type": "execute_result",
          "data": {
            "text/plain": [
              "width        0\n",
              "length       0\n",
              "draught      0\n",
              "speed        0\n",
              "dimension    0\n",
              "dtype: int64"
            ]
          },
          "metadata": {},
          "execution_count": 156
        }
      ]
    },
    {
      "cell_type": "code",
      "execution_count": 157,
      "id": "e45a2381",
      "metadata": {
        "execution": {
          "iopub.execute_input": "2022-04-08T08:20:23.620006Z",
          "iopub.status.busy": "2022-04-08T08:20:23.619202Z",
          "iopub.status.idle": "2022-04-08T08:20:23.624031Z",
          "shell.execute_reply": "2022-04-08T08:20:23.624537Z",
          "shell.execute_reply.started": "2022-04-07T13:26:42.496932Z"
        },
        "id": "e45a2381",
        "papermill": {
          "duration": 0.076044,
          "end_time": "2022-04-08T08:20:23.624722",
          "exception": false,
          "start_time": "2022-04-08T08:20:23.548678",
          "status": "completed"
        },
        "tags": []
      },
      "outputs": [],
      "source": [
        "X_train, X_test, y_train, y_test = train_test_split(X, y, train_size=0.7, random_state=42)"
      ]
    },
    {
      "cell_type": "code",
      "source": [
        "target_column=['shiptype']\n",
        "predictors=list(set(list(df.columns))-set(target_column))\n",
        "df[predictors]=df[predictors]/df[predictors].max()\n",
        "df.describe().transpose()"
      ],
      "metadata": {
        "id": "7z_LHWBETfls",
        "colab": {
          "base_uri": "https://localhost:8080/",
          "height": 206
        },
        "outputId": "9dedc5d8-ddc2-4419-b371-63dfd74941e5"
      },
      "id": "7z_LHWBETfls",
      "execution_count": 158,
      "outputs": [
        {
          "output_type": "execute_result",
          "data": {
            "text/plain": [
              "            count      mean       std       min       25%       50%       75%  \\\n",
              "width      2854.0  0.356815  0.186660  0.033333  0.216667  0.300000  0.500000   \n",
              "length     2854.0  0.224383  0.121403  0.013289  0.146179  0.212625  0.305648   \n",
              "draught    2854.0  0.261249  0.116946  0.015686  0.188235  0.247059  0.317647   \n",
              "speed      2854.0  0.207864  0.079373  0.000000  0.175908  0.217973  0.246654   \n",
              "dimension  2854.0  0.153271  0.156185  0.000668  0.047786  0.095155  0.225564   \n",
              "\n",
              "           max  \n",
              "width      1.0  \n",
              "length     1.0  \n",
              "draught    1.0  \n",
              "speed      1.0  \n",
              "dimension  1.0  "
            ],
            "text/html": [
              "\n",
              "  <div id=\"df-89771ee4-70a4-47f4-9f04-12d2e39b91ac\">\n",
              "    <div class=\"colab-df-container\">\n",
              "      <div>\n",
              "<style scoped>\n",
              "    .dataframe tbody tr th:only-of-type {\n",
              "        vertical-align: middle;\n",
              "    }\n",
              "\n",
              "    .dataframe tbody tr th {\n",
              "        vertical-align: top;\n",
              "    }\n",
              "\n",
              "    .dataframe thead th {\n",
              "        text-align: right;\n",
              "    }\n",
              "</style>\n",
              "<table border=\"1\" class=\"dataframe\">\n",
              "  <thead>\n",
              "    <tr style=\"text-align: right;\">\n",
              "      <th></th>\n",
              "      <th>count</th>\n",
              "      <th>mean</th>\n",
              "      <th>std</th>\n",
              "      <th>min</th>\n",
              "      <th>25%</th>\n",
              "      <th>50%</th>\n",
              "      <th>75%</th>\n",
              "      <th>max</th>\n",
              "    </tr>\n",
              "  </thead>\n",
              "  <tbody>\n",
              "    <tr>\n",
              "      <th>width</th>\n",
              "      <td>2854.0</td>\n",
              "      <td>0.356815</td>\n",
              "      <td>0.186660</td>\n",
              "      <td>0.033333</td>\n",
              "      <td>0.216667</td>\n",
              "      <td>0.300000</td>\n",
              "      <td>0.500000</td>\n",
              "      <td>1.0</td>\n",
              "    </tr>\n",
              "    <tr>\n",
              "      <th>length</th>\n",
              "      <td>2854.0</td>\n",
              "      <td>0.224383</td>\n",
              "      <td>0.121403</td>\n",
              "      <td>0.013289</td>\n",
              "      <td>0.146179</td>\n",
              "      <td>0.212625</td>\n",
              "      <td>0.305648</td>\n",
              "      <td>1.0</td>\n",
              "    </tr>\n",
              "    <tr>\n",
              "      <th>draught</th>\n",
              "      <td>2854.0</td>\n",
              "      <td>0.261249</td>\n",
              "      <td>0.116946</td>\n",
              "      <td>0.015686</td>\n",
              "      <td>0.188235</td>\n",
              "      <td>0.247059</td>\n",
              "      <td>0.317647</td>\n",
              "      <td>1.0</td>\n",
              "    </tr>\n",
              "    <tr>\n",
              "      <th>speed</th>\n",
              "      <td>2854.0</td>\n",
              "      <td>0.207864</td>\n",
              "      <td>0.079373</td>\n",
              "      <td>0.000000</td>\n",
              "      <td>0.175908</td>\n",
              "      <td>0.217973</td>\n",
              "      <td>0.246654</td>\n",
              "      <td>1.0</td>\n",
              "    </tr>\n",
              "    <tr>\n",
              "      <th>dimension</th>\n",
              "      <td>2854.0</td>\n",
              "      <td>0.153271</td>\n",
              "      <td>0.156185</td>\n",
              "      <td>0.000668</td>\n",
              "      <td>0.047786</td>\n",
              "      <td>0.095155</td>\n",
              "      <td>0.225564</td>\n",
              "      <td>1.0</td>\n",
              "    </tr>\n",
              "  </tbody>\n",
              "</table>\n",
              "</div>\n",
              "      <button class=\"colab-df-convert\" onclick=\"convertToInteractive('df-89771ee4-70a4-47f4-9f04-12d2e39b91ac')\"\n",
              "              title=\"Convert this dataframe to an interactive table.\"\n",
              "              style=\"display:none;\">\n",
              "        \n",
              "  <svg xmlns=\"http://www.w3.org/2000/svg\" height=\"24px\"viewBox=\"0 0 24 24\"\n",
              "       width=\"24px\">\n",
              "    <path d=\"M0 0h24v24H0V0z\" fill=\"none\"/>\n",
              "    <path d=\"M18.56 5.44l.94 2.06.94-2.06 2.06-.94-2.06-.94-.94-2.06-.94 2.06-2.06.94zm-11 1L8.5 8.5l.94-2.06 2.06-.94-2.06-.94L8.5 2.5l-.94 2.06-2.06.94zm10 10l.94 2.06.94-2.06 2.06-.94-2.06-.94-.94-2.06-.94 2.06-2.06.94z\"/><path d=\"M17.41 7.96l-1.37-1.37c-.4-.4-.92-.59-1.43-.59-.52 0-1.04.2-1.43.59L10.3 9.45l-7.72 7.72c-.78.78-.78 2.05 0 2.83L4 21.41c.39.39.9.59 1.41.59.51 0 1.02-.2 1.41-.59l7.78-7.78 2.81-2.81c.8-.78.8-2.07 0-2.86zM5.41 20L4 18.59l7.72-7.72 1.47 1.35L5.41 20z\"/>\n",
              "  </svg>\n",
              "      </button>\n",
              "      \n",
              "  <style>\n",
              "    .colab-df-container {\n",
              "      display:flex;\n",
              "      flex-wrap:wrap;\n",
              "      gap: 12px;\n",
              "    }\n",
              "\n",
              "    .colab-df-convert {\n",
              "      background-color: #E8F0FE;\n",
              "      border: none;\n",
              "      border-radius: 50%;\n",
              "      cursor: pointer;\n",
              "      display: none;\n",
              "      fill: #1967D2;\n",
              "      height: 32px;\n",
              "      padding: 0 0 0 0;\n",
              "      width: 32px;\n",
              "    }\n",
              "\n",
              "    .colab-df-convert:hover {\n",
              "      background-color: #E2EBFA;\n",
              "      box-shadow: 0px 1px 2px rgba(60, 64, 67, 0.3), 0px 1px 3px 1px rgba(60, 64, 67, 0.15);\n",
              "      fill: #174EA6;\n",
              "    }\n",
              "\n",
              "    [theme=dark] .colab-df-convert {\n",
              "      background-color: #3B4455;\n",
              "      fill: #D2E3FC;\n",
              "    }\n",
              "\n",
              "    [theme=dark] .colab-df-convert:hover {\n",
              "      background-color: #434B5C;\n",
              "      box-shadow: 0px 1px 3px 1px rgba(0, 0, 0, 0.15);\n",
              "      filter: drop-shadow(0px 1px 2px rgba(0, 0, 0, 0.3));\n",
              "      fill: #FFFFFF;\n",
              "    }\n",
              "  </style>\n",
              "\n",
              "      <script>\n",
              "        const buttonEl =\n",
              "          document.querySelector('#df-89771ee4-70a4-47f4-9f04-12d2e39b91ac button.colab-df-convert');\n",
              "        buttonEl.style.display =\n",
              "          google.colab.kernel.accessAllowed ? 'block' : 'none';\n",
              "\n",
              "        async function convertToInteractive(key) {\n",
              "          const element = document.querySelector('#df-89771ee4-70a4-47f4-9f04-12d2e39b91ac');\n",
              "          const dataTable =\n",
              "            await google.colab.kernel.invokeFunction('convertToInteractive',\n",
              "                                                     [key], {});\n",
              "          if (!dataTable) return;\n",
              "\n",
              "          const docLinkHtml = 'Like what you see? Visit the ' +\n",
              "            '<a target=\"_blank\" href=https://colab.research.google.com/notebooks/data_table.ipynb>data table notebook</a>'\n",
              "            + ' to learn more about interactive tables.';\n",
              "          element.innerHTML = '';\n",
              "          dataTable['output_type'] = 'display_data';\n",
              "          await google.colab.output.renderOutput(dataTable, element);\n",
              "          const docLink = document.createElement('div');\n",
              "          docLink.innerHTML = docLinkHtml;\n",
              "          element.appendChild(docLink);\n",
              "        }\n",
              "      </script>\n",
              "    </div>\n",
              "  </div>\n",
              "  "
            ]
          },
          "metadata": {},
          "execution_count": 158
        }
      ]
    },
    {
      "cell_type": "code",
      "source": [
        "X=df[predictors].values\n",
        "y=df[target_column].values\n",
        "X_train,X_test,y_train,y_test=train_test_split(X,y, test_size=0.30, random_state=42)\n",
        "print(X_train.shape)\n",
        "print(X_test.shape)"
      ],
      "metadata": {
        "colab": {
          "base_uri": "https://localhost:8080/"
        },
        "id": "xKjJDSjoVA6U",
        "outputId": "084040c0-d4f6-41fa-8c08-ed20f5acd2cb"
      },
      "id": "xKjJDSjoVA6U",
      "execution_count": 159,
      "outputs": [
        {
          "output_type": "stream",
          "name": "stdout",
          "text": [
            "(1997, 5)\n",
            "(857, 5)\n"
          ]
        }
      ]
    },
    {
      "cell_type": "code",
      "source": [
        "df.head(100)"
      ],
      "metadata": {
        "colab": {
          "base_uri": "https://localhost:8080/",
          "height": 424
        },
        "id": "sYd0RfjpdbG-",
        "outputId": "24915f2f-7634-4f73-a4ef-5436d10189e2"
      },
      "id": "sYd0RfjpdbG-",
      "execution_count": 160,
      "outputs": [
        {
          "output_type": "execute_result",
          "data": {
            "text/plain": [
              "      shiptype     width    length   draught     speed  dimension\n",
              "4        Cargo  0.216667  0.164452  0.247059  0.000000   0.053759\n",
              "5        Cargo  0.383333  0.247508  0.247059  0.001912   0.143150\n",
              "7        Cargo  0.266667  0.249169  0.266667  0.000000   0.100251\n",
              "8        Cargo  0.266667  0.149502  0.203922  0.000000   0.060150\n",
              "11    Military  0.200000  0.079734  0.164706  0.000000   0.024060\n",
              "..         ...       ...       ...       ...       ...        ...\n",
              "189     Tanker  0.733333  0.415282  0.568627  0.227533   0.459482\n",
              "195  Passenger  0.433333  0.368771  0.223529  0.313576   0.241103\n",
              "199      Cargo  0.266667  0.232558  0.184314  0.160612   0.093567\n",
              "201       Rare  0.133333  0.044850  0.117647  0.000000   0.009023\n",
              "203      Cargo  0.216667  0.184385  0.152941  0.233270   0.060276\n",
              "\n",
              "[100 rows x 6 columns]"
            ],
            "text/html": [
              "\n",
              "  <div id=\"df-13aecddb-091e-4190-8f03-08b803b4cde5\">\n",
              "    <div class=\"colab-df-container\">\n",
              "      <div>\n",
              "<style scoped>\n",
              "    .dataframe tbody tr th:only-of-type {\n",
              "        vertical-align: middle;\n",
              "    }\n",
              "\n",
              "    .dataframe tbody tr th {\n",
              "        vertical-align: top;\n",
              "    }\n",
              "\n",
              "    .dataframe thead th {\n",
              "        text-align: right;\n",
              "    }\n",
              "</style>\n",
              "<table border=\"1\" class=\"dataframe\">\n",
              "  <thead>\n",
              "    <tr style=\"text-align: right;\">\n",
              "      <th></th>\n",
              "      <th>shiptype</th>\n",
              "      <th>width</th>\n",
              "      <th>length</th>\n",
              "      <th>draught</th>\n",
              "      <th>speed</th>\n",
              "      <th>dimension</th>\n",
              "    </tr>\n",
              "  </thead>\n",
              "  <tbody>\n",
              "    <tr>\n",
              "      <th>4</th>\n",
              "      <td>Cargo</td>\n",
              "      <td>0.216667</td>\n",
              "      <td>0.164452</td>\n",
              "      <td>0.247059</td>\n",
              "      <td>0.000000</td>\n",
              "      <td>0.053759</td>\n",
              "    </tr>\n",
              "    <tr>\n",
              "      <th>5</th>\n",
              "      <td>Cargo</td>\n",
              "      <td>0.383333</td>\n",
              "      <td>0.247508</td>\n",
              "      <td>0.247059</td>\n",
              "      <td>0.001912</td>\n",
              "      <td>0.143150</td>\n",
              "    </tr>\n",
              "    <tr>\n",
              "      <th>7</th>\n",
              "      <td>Cargo</td>\n",
              "      <td>0.266667</td>\n",
              "      <td>0.249169</td>\n",
              "      <td>0.266667</td>\n",
              "      <td>0.000000</td>\n",
              "      <td>0.100251</td>\n",
              "    </tr>\n",
              "    <tr>\n",
              "      <th>8</th>\n",
              "      <td>Cargo</td>\n",
              "      <td>0.266667</td>\n",
              "      <td>0.149502</td>\n",
              "      <td>0.203922</td>\n",
              "      <td>0.000000</td>\n",
              "      <td>0.060150</td>\n",
              "    </tr>\n",
              "    <tr>\n",
              "      <th>11</th>\n",
              "      <td>Military</td>\n",
              "      <td>0.200000</td>\n",
              "      <td>0.079734</td>\n",
              "      <td>0.164706</td>\n",
              "      <td>0.000000</td>\n",
              "      <td>0.024060</td>\n",
              "    </tr>\n",
              "    <tr>\n",
              "      <th>...</th>\n",
              "      <td>...</td>\n",
              "      <td>...</td>\n",
              "      <td>...</td>\n",
              "      <td>...</td>\n",
              "      <td>...</td>\n",
              "      <td>...</td>\n",
              "    </tr>\n",
              "    <tr>\n",
              "      <th>189</th>\n",
              "      <td>Tanker</td>\n",
              "      <td>0.733333</td>\n",
              "      <td>0.415282</td>\n",
              "      <td>0.568627</td>\n",
              "      <td>0.227533</td>\n",
              "      <td>0.459482</td>\n",
              "    </tr>\n",
              "    <tr>\n",
              "      <th>195</th>\n",
              "      <td>Passenger</td>\n",
              "      <td>0.433333</td>\n",
              "      <td>0.368771</td>\n",
              "      <td>0.223529</td>\n",
              "      <td>0.313576</td>\n",
              "      <td>0.241103</td>\n",
              "    </tr>\n",
              "    <tr>\n",
              "      <th>199</th>\n",
              "      <td>Cargo</td>\n",
              "      <td>0.266667</td>\n",
              "      <td>0.232558</td>\n",
              "      <td>0.184314</td>\n",
              "      <td>0.160612</td>\n",
              "      <td>0.093567</td>\n",
              "    </tr>\n",
              "    <tr>\n",
              "      <th>201</th>\n",
              "      <td>Rare</td>\n",
              "      <td>0.133333</td>\n",
              "      <td>0.044850</td>\n",
              "      <td>0.117647</td>\n",
              "      <td>0.000000</td>\n",
              "      <td>0.009023</td>\n",
              "    </tr>\n",
              "    <tr>\n",
              "      <th>203</th>\n",
              "      <td>Cargo</td>\n",
              "      <td>0.216667</td>\n",
              "      <td>0.184385</td>\n",
              "      <td>0.152941</td>\n",
              "      <td>0.233270</td>\n",
              "      <td>0.060276</td>\n",
              "    </tr>\n",
              "  </tbody>\n",
              "</table>\n",
              "<p>100 rows × 6 columns</p>\n",
              "</div>\n",
              "      <button class=\"colab-df-convert\" onclick=\"convertToInteractive('df-13aecddb-091e-4190-8f03-08b803b4cde5')\"\n",
              "              title=\"Convert this dataframe to an interactive table.\"\n",
              "              style=\"display:none;\">\n",
              "        \n",
              "  <svg xmlns=\"http://www.w3.org/2000/svg\" height=\"24px\"viewBox=\"0 0 24 24\"\n",
              "       width=\"24px\">\n",
              "    <path d=\"M0 0h24v24H0V0z\" fill=\"none\"/>\n",
              "    <path d=\"M18.56 5.44l.94 2.06.94-2.06 2.06-.94-2.06-.94-.94-2.06-.94 2.06-2.06.94zm-11 1L8.5 8.5l.94-2.06 2.06-.94-2.06-.94L8.5 2.5l-.94 2.06-2.06.94zm10 10l.94 2.06.94-2.06 2.06-.94-2.06-.94-.94-2.06-.94 2.06-2.06.94z\"/><path d=\"M17.41 7.96l-1.37-1.37c-.4-.4-.92-.59-1.43-.59-.52 0-1.04.2-1.43.59L10.3 9.45l-7.72 7.72c-.78.78-.78 2.05 0 2.83L4 21.41c.39.39.9.59 1.41.59.51 0 1.02-.2 1.41-.59l7.78-7.78 2.81-2.81c.8-.78.8-2.07 0-2.86zM5.41 20L4 18.59l7.72-7.72 1.47 1.35L5.41 20z\"/>\n",
              "  </svg>\n",
              "      </button>\n",
              "      \n",
              "  <style>\n",
              "    .colab-df-container {\n",
              "      display:flex;\n",
              "      flex-wrap:wrap;\n",
              "      gap: 12px;\n",
              "    }\n",
              "\n",
              "    .colab-df-convert {\n",
              "      background-color: #E8F0FE;\n",
              "      border: none;\n",
              "      border-radius: 50%;\n",
              "      cursor: pointer;\n",
              "      display: none;\n",
              "      fill: #1967D2;\n",
              "      height: 32px;\n",
              "      padding: 0 0 0 0;\n",
              "      width: 32px;\n",
              "    }\n",
              "\n",
              "    .colab-df-convert:hover {\n",
              "      background-color: #E2EBFA;\n",
              "      box-shadow: 0px 1px 2px rgba(60, 64, 67, 0.3), 0px 1px 3px 1px rgba(60, 64, 67, 0.15);\n",
              "      fill: #174EA6;\n",
              "    }\n",
              "\n",
              "    [theme=dark] .colab-df-convert {\n",
              "      background-color: #3B4455;\n",
              "      fill: #D2E3FC;\n",
              "    }\n",
              "\n",
              "    [theme=dark] .colab-df-convert:hover {\n",
              "      background-color: #434B5C;\n",
              "      box-shadow: 0px 1px 3px 1px rgba(0, 0, 0, 0.15);\n",
              "      filter: drop-shadow(0px 1px 2px rgba(0, 0, 0, 0.3));\n",
              "      fill: #FFFFFF;\n",
              "    }\n",
              "  </style>\n",
              "\n",
              "      <script>\n",
              "        const buttonEl =\n",
              "          document.querySelector('#df-13aecddb-091e-4190-8f03-08b803b4cde5 button.colab-df-convert');\n",
              "        buttonEl.style.display =\n",
              "          google.colab.kernel.accessAllowed ? 'block' : 'none';\n",
              "\n",
              "        async function convertToInteractive(key) {\n",
              "          const element = document.querySelector('#df-13aecddb-091e-4190-8f03-08b803b4cde5');\n",
              "          const dataTable =\n",
              "            await google.colab.kernel.invokeFunction('convertToInteractive',\n",
              "                                                     [key], {});\n",
              "          if (!dataTable) return;\n",
              "\n",
              "          const docLinkHtml = 'Like what you see? Visit the ' +\n",
              "            '<a target=\"_blank\" href=https://colab.research.google.com/notebooks/data_table.ipynb>data table notebook</a>'\n",
              "            + ' to learn more about interactive tables.';\n",
              "          element.innerHTML = '';\n",
              "          dataTable['output_type'] = 'display_data';\n",
              "          await google.colab.output.renderOutput(dataTable, element);\n",
              "          const docLink = document.createElement('div');\n",
              "          docLink.innerHTML = docLinkHtml;\n",
              "          element.appendChild(docLink);\n",
              "        }\n",
              "      </script>\n",
              "    </div>\n",
              "  </div>\n",
              "  "
            ]
          },
          "metadata": {},
          "execution_count": 160
        }
      ]
    },
    {
      "cell_type": "code",
      "source": [
        "from sklearn.neural_network import MLPClassifier\n",
        "mlp=MLPClassifier(hidden_layer_sizes=(8,8,8),activation='relu',solver='adam',max_iter=500)\n",
        "mlp.fit(X_train, y_train)"
      ],
      "metadata": {
        "colab": {
          "base_uri": "https://localhost:8080/"
        },
        "id": "t5e1uIUYVEpZ",
        "outputId": "423d4f3f-8e5a-40ef-9dec-6d7e9daf5bb7"
      },
      "id": "t5e1uIUYVEpZ",
      "execution_count": 161,
      "outputs": [
        {
          "output_type": "stream",
          "name": "stderr",
          "text": [
            "/usr/local/lib/python3.8/dist-packages/sklearn/neural_network/_multilayer_perceptron.py:1109: DataConversionWarning: A column-vector y was passed when a 1d array was expected. Please change the shape of y to (n_samples, ), for example using ravel().\n",
            "  y = column_or_1d(y, warn=True)\n",
            "/usr/local/lib/python3.8/dist-packages/sklearn/neural_network/_multilayer_perceptron.py:692: ConvergenceWarning: Stochastic Optimizer: Maximum iterations (500) reached and the optimization hasn't converged yet.\n",
            "  warnings.warn(\n"
          ]
        },
        {
          "output_type": "execute_result",
          "data": {
            "text/plain": [
              "MLPClassifier(hidden_layer_sizes=(8, 8, 8), max_iter=500)"
            ]
          },
          "metadata": {},
          "execution_count": 161
        }
      ]
    },
    {
      "cell_type": "code",
      "source": [
        "predict_train=mlp.predict(X_train)\n",
        "predict_test=mlp.predict(X_test)"
      ],
      "metadata": {
        "id": "mkWaok3yVQYK"
      },
      "id": "mkWaok3yVQYK",
      "execution_count": 162,
      "outputs": []
    },
    {
      "cell_type": "code",
      "source": [
        "# Model with Training Data\n",
        "from sklearn.metrics import classification_report,confusion_matrix\n",
        "print(confusion_matrix(y_train,predict_train))\n",
        "print(classification_report(y_train,predict_train))"
      ],
      "metadata": {
        "colab": {
          "base_uri": "https://localhost:8080/"
        },
        "id": "2POjvBwOcEYJ",
        "outputId": "61eeb08a-a612-48ea-d9ed-ed50164bb9a8"
      },
      "id": "2POjvBwOcEYJ",
      "execution_count": 163,
      "outputs": [
        {
          "output_type": "stream",
          "name": "stdout",
          "text": [
            "[[1125    5    0    1    0    5    0    0   37    0]\n",
            " [  13   55    0    0    0   12    0    0    0    0]\n",
            " [  16   23    0    0    0    9    0    0    0    1]\n",
            " [  36   10    0    1    0    7    0    0    0    0]\n",
            " [   0    3    0    0    0    4    0    0    0    0]\n",
            " [  23   26    0    1    0   45    0    0    0    0]\n",
            " [   0    2    0    0    0   11    0    0    0    0]\n",
            " [   2    4    0    0    0    0    0    0    0    0]\n",
            " [ 347    1    0    0    0    0    0    0  117    0]\n",
            " [   7   40    0    0    0    7    0    0    0    1]]\n",
            "              precision    recall  f1-score   support\n",
            "\n",
            "       Cargo       0.72      0.96      0.82      1173\n",
            "     Fishing       0.33      0.69      0.44        80\n",
            "    Military       0.00      0.00      0.00        49\n",
            "   Passenger       0.33      0.02      0.04        54\n",
            "    Pleasure       0.00      0.00      0.00         7\n",
            "        Rare       0.45      0.47      0.46        95\n",
            "         SAR       0.00      0.00      0.00        13\n",
            "     Sailing       0.00      0.00      0.00         6\n",
            "      Tanker       0.76      0.25      0.38       465\n",
            "         Tug       0.50      0.02      0.04        55\n",
            "\n",
            "    accuracy                           0.67      1997\n",
            "   macro avg       0.31      0.24      0.22      1997\n",
            "weighted avg       0.66      0.67      0.61      1997\n",
            "\n"
          ]
        },
        {
          "output_type": "stream",
          "name": "stderr",
          "text": [
            "/usr/local/lib/python3.8/dist-packages/sklearn/metrics/_classification.py:1318: UndefinedMetricWarning: Precision and F-score are ill-defined and being set to 0.0 in labels with no predicted samples. Use `zero_division` parameter to control this behavior.\n",
            "  _warn_prf(average, modifier, msg_start, len(result))\n",
            "/usr/local/lib/python3.8/dist-packages/sklearn/metrics/_classification.py:1318: UndefinedMetricWarning: Precision and F-score are ill-defined and being set to 0.0 in labels with no predicted samples. Use `zero_division` parameter to control this behavior.\n",
            "  _warn_prf(average, modifier, msg_start, len(result))\n",
            "/usr/local/lib/python3.8/dist-packages/sklearn/metrics/_classification.py:1318: UndefinedMetricWarning: Precision and F-score are ill-defined and being set to 0.0 in labels with no predicted samples. Use `zero_division` parameter to control this behavior.\n",
            "  _warn_prf(average, modifier, msg_start, len(result))\n"
          ]
        }
      ]
    },
    {
      "cell_type": "markdown",
      "source": [
        "**Decision Tree Classifier**"
      ],
      "metadata": {
        "id": "MzIQCjc_lgEw"
      },
      "id": "MzIQCjc_lgEw"
    },
    {
      "cell_type": "code",
      "execution_count": null,
      "id": "109b9aed",
      "metadata": {
        "execution": {
          "iopub.execute_input": "2022-04-08T08:20:23.759848Z",
          "iopub.status.busy": "2022-04-08T08:20:23.758856Z",
          "iopub.status.idle": "2022-04-08T08:20:23.764150Z",
          "shell.execute_reply": "2022-04-08T08:20:23.764643Z",
          "shell.execute_reply.started": "2022-04-07T13:26:42.584052Z"
        },
        "id": "109b9aed",
        "papermill": {
          "duration": 0.075286,
          "end_time": "2022-04-08T08:20:23.764835",
          "exception": false,
          "start_time": "2022-04-08T08:20:23.689549",
          "status": "completed"
        },
        "tags": []
      },
      "outputs": [],
      "source": [
        "from sklearn.tree import DecisionTreeClassifier"
      ]
    },
    {
      "cell_type": "code",
      "execution_count": null,
      "id": "XSd6ddtMu6TN",
      "metadata": {
        "id": "XSd6ddtMu6TN"
      },
      "outputs": [],
      "source": [
        "dt=DecisionTreeClassifier(random_state=42)"
      ]
    },
    {
      "cell_type": "code",
      "execution_count": null,
      "id": "b2739fdf",
      "metadata": {
        "colab": {
          "base_uri": "https://localhost:8080/"
        },
        "execution": {
          "iopub.execute_input": "2022-04-08T08:20:23.898753Z",
          "iopub.status.busy": "2022-04-08T08:20:23.898019Z",
          "iopub.status.idle": "2022-04-08T09:29:40.176421Z",
          "shell.execute_reply": "2022-04-08T09:29:40.177064Z",
          "shell.execute_reply.started": "2022-04-07T13:33:47.487128Z"
        },
        "id": "b2739fdf",
        "outputId": "d5eab8d7-2f1f-4c44-a96c-c214979cdb5d",
        "papermill": {
          "duration": 4156.347292,
          "end_time": "2022-04-08T09:29:40.177454",
          "exception": false,
          "start_time": "2022-04-08T08:20:23.830162",
          "status": "completed"
        },
        "tags": []
      },
      "outputs": [
        {
          "output_type": "execute_result",
          "data": {
            "text/plain": [
              "DecisionTreeClassifier(random_state=42)"
            ]
          },
          "metadata": {},
          "execution_count": 68
        }
      ],
      "source": [
        "dt.fit(X_train,y_train)"
      ]
    },
    {
      "cell_type": "code",
      "execution_count": null,
      "id": "alTb-eW9NeUZ",
      "metadata": {
        "id": "alTb-eW9NeUZ"
      },
      "outputs": [],
      "source": [
        "#Predict the response for test dataset\n",
        "y_pred = dt.predict(X_test)"
      ]
    },
    {
      "cell_type": "code",
      "execution_count": null,
      "id": "RQLqRORyNuSv",
      "metadata": {
        "id": "RQLqRORyNuSv"
      },
      "outputs": [],
      "source": [
        "from sklearn import metrics #Import scikit-learn metrics module for accuracy calculation"
      ]
    },
    {
      "cell_type": "code",
      "execution_count": null,
      "id": "th7TT636NkWo",
      "metadata": {
        "colab": {
          "base_uri": "https://localhost:8080/"
        },
        "id": "th7TT636NkWo",
        "outputId": "0cd421c9-1fe3-411c-9d74-5c7b1fa66b77"
      },
      "outputs": [
        {
          "output_type": "stream",
          "name": "stdout",
          "text": [
            "Accuracy: 0.6244653550042771\n"
          ]
        }
      ],
      "source": [
        "# Model Accuracy, how often is the classifier correct?\n",
        "print(\"Accuracy:\",metrics.accuracy_score(y_test, y_pred))"
      ]
    },
    {
      "cell_type": "code",
      "execution_count": null,
      "id": "rOI3kxohOkZB",
      "metadata": {
        "colab": {
          "base_uri": "https://localhost:8080/"
        },
        "id": "rOI3kxohOkZB",
        "outputId": "16c1be74-1285-4752-8d22-a908687d1caf"
      },
      "outputs": [
        {
          "output_type": "stream",
          "name": "stdout",
          "text": [
            "              precision    recall  f1-score   support\n",
            "\n",
            "       Cargo       0.79      0.81      0.80       484\n",
            "     Fishing       0.52      0.53      0.52        95\n",
            "    Military       0.39      0.52      0.45        21\n",
            "   Passenger       0.35      0.35      0.35        40\n",
            "    Pleasure       0.46      0.53      0.50       129\n",
            "        Rare       0.34      0.33      0.34        63\n",
            "         SAR       0.39      0.37      0.38        38\n",
            "     Sailing       0.36      0.24      0.29        68\n",
            "      Tanker       0.68      0.63      0.65       206\n",
            "         Tug       0.48      0.52      0.50        25\n",
            "\n",
            "    accuracy                           0.62      1169\n",
            "   macro avg       0.48      0.48      0.48      1169\n",
            "weighted avg       0.62      0.62      0.62      1169\n",
            "\n"
          ]
        }
      ],
      "source": [
        "print(classification_report(y_test, y_pred))\n"
      ]
    },
    {
      "cell_type": "code",
      "execution_count": null,
      "id": "6dgWeFn-OyZL",
      "metadata": {
        "colab": {
          "base_uri": "https://localhost:8080/"
        },
        "id": "6dgWeFn-OyZL",
        "outputId": "3939daac-2e3a-4941-e9d2-ebb36b5a87d6"
      },
      "outputs": [
        {
          "output_type": "stream",
          "name": "stdout",
          "text": [
            "[[393   2   5  15   1  10   0   0  54   4]\n",
            " [  7  50   2   2  14   7   4   6   0   3]\n",
            " [  3   0  11   1   1   2   3   0   0   0]\n",
            " [ 13   1   0  14   4   4   1   0   2   1]\n",
            " [  0  24   0   2  69   7   9  16   0   2]\n",
            " [  7   7   5   1   7  21   4   4   4   3]\n",
            " [  0   4   2   0  13   4  14   1   0   0]\n",
            " [  4   5   0   1  39   2   1  16   0   0]\n",
            " [ 70   0   2   2   0   2   0   0 129   1]\n",
            " [  1   4   1   2   1   2   0   1   0  13]]\n"
          ]
        }
      ],
      "source": [
        "from sklearn.metrics import confusion_matrix\n",
        "print(confusion_matrix(y_test, y_pred))"
      ]
    },
    {
      "cell_type": "markdown",
      "id": "ImfMrKcZN03I",
      "metadata": {
        "id": "ImfMrKcZN03I"
      },
      "source": [
        "## Plotting decision trees"
      ]
    },
    {
      "cell_type": "code",
      "source": [
        "print(dt.predict(X.sample(1)))"
      ],
      "metadata": {
        "colab": {
          "base_uri": "https://localhost:8080/"
        },
        "id": "pFAQe4wkQi-0",
        "outputId": "0b4b365c-cf9a-4d4b-d68d-fdfa193f1f48"
      },
      "id": "pFAQe4wkQi-0",
      "execution_count": null,
      "outputs": [
        {
          "output_type": "stream",
          "name": "stdout",
          "text": [
            "['Sailing']\n"
          ]
        }
      ]
    },
    {
      "cell_type": "code",
      "execution_count": null,
      "id": "V5FGwi-rN35j",
      "metadata": {
        "colab": {
          "base_uri": "https://localhost:8080/"
        },
        "id": "V5FGwi-rN35j",
        "outputId": "1e67c141-ed7e-4f01-9104-c8a1e9533473"
      },
      "outputs": [
        {
          "output_type": "stream",
          "name": "stdout",
          "text": [
            "Looking in indexes: https://pypi.org/simple, https://us-python.pkg.dev/colab-wheels/public/simple/\n",
            "Requirement already satisfied: graphviz in /usr/local/lib/python3.8/dist-packages (0.10.1)\n",
            "Looking in indexes: https://pypi.org/simple, https://us-python.pkg.dev/colab-wheels/public/simple/\n",
            "Requirement already satisfied: pydotplus in /usr/local/lib/python3.8/dist-packages (2.0.2)\n",
            "Requirement already satisfied: pyparsing>=2.0.1 in /usr/local/lib/python3.8/dist-packages (from pydotplus) (3.0.9)\n"
          ]
        }
      ],
      "source": [
        "!pip install graphviz\n",
        "!pip install pydotplus"
      ]
    },
    {
      "cell_type": "code",
      "execution_count": null,
      "id": "SHecGO_BQD1W",
      "metadata": {
        "id": "SHecGO_BQD1W"
      },
      "outputs": [],
      "source": [
        "from sklearn import tree\n"
      ]
    },
    {
      "cell_type": "code",
      "execution_count": null,
      "id": "g1nVQkjNOBO-",
      "metadata": {
        "colab": {
          "base_uri": "https://localhost:8080/",
          "height": 248
        },
        "id": "g1nVQkjNOBO-",
        "outputId": "11ef5cec-f427-4053-e818-8d18a737ac9a"
      },
      "outputs": [
        {
          "output_type": "display_data",
          "data": {
            "text/plain": [
              "<Figure size 432x288 with 1 Axes>"
            ],
            "image/png": "[encoded data removed]"
          },
          "metadata": {
            "needs_background": "light"
          }
        }
      ],
      "source": [
        "\n",
        "tree.plot_tree(dt);\n"
      ]
    },
    {
      "cell_type": "markdown",
      "source": [
        "**RandomForest Classifier**"
      ],
      "metadata": {
        "id": "Pl_DEgMdb9uo"
      },
      "id": "Pl_DEgMdb9uo"
    },
    {
      "cell_type": "code",
      "execution_count": null,
      "id": "eaafa0b9",
      "metadata": {
        "colab": {
          "base_uri": "https://localhost:8080/"
        },
        "id": "eaafa0b9",
        "outputId": "69f3ba3d-60e0-4594-b308-98c3a388726a"
      },
      "outputs": [
        {
          "output_type": "stream",
          "name": "stdout",
          "text": [
            "              precision    recall  f1-score   support\n",
            "\n",
            "       Cargo       0.74      0.92      0.82       484\n",
            "     Fishing       0.53      0.57      0.55        95\n",
            "    Military       0.35      0.29      0.32        21\n",
            "   Passenger       0.36      0.20      0.26        40\n",
            "    Pleasure       0.45      0.53      0.49       129\n",
            "        Rare       0.41      0.33      0.37        63\n",
            "         SAR       0.35      0.34      0.35        38\n",
            "     Sailing       0.36      0.24      0.29        68\n",
            "      Tanker       0.80      0.50      0.61       206\n",
            "         Tug       0.63      0.48      0.55        25\n",
            "\n",
            "    accuracy                           0.64      1169\n",
            "   macro avg       0.50      0.44      0.46      1169\n",
            "weighted avg       0.63      0.64      0.62      1169\n",
            "\n",
            "[[445   3   0   5   0   6   1   0  24   0]\n",
            " [  8  54   0   2  15   3   3   7   1   2]\n",
            " [  6   1   6   0   0   7   1   0   0   0]\n",
            " [ 19   2   2   8   4   4   0   1   0   0]\n",
            " [  1  17   2   2  69   5  14  18   0   1]\n",
            " [ 13   7   4   2   7  21   4   1   0   4]\n",
            " [  0   3   1   0  17   4  13   0   0   0]\n",
            " [  1   7   0   2  41   0   1  16   0   0]\n",
            " [103   1   0   0   0   0   0   0 102   0]\n",
            " [  2   6   2   1   0   1   0   1   0  12]]\n"
          ]
        }
      ],
      "source": [
        "from sklearn.ensemble import RandomForestClassifier\n",
        "rf = RandomForestClassifier(n_estimators=200,criterion=\"entropy\",bootstrap=True)\n",
        "rf.fit(X_train,y_train)\n",
        "y_pred = rf.predict(X_test)\n",
        "print(classification_report(y_test, y_pred))\n",
        "from sklearn.metrics import confusion_matrix\n",
        "print(confusion_matrix(y_test, y_pred))"
      ]
    },
    {
      "cell_type": "markdown",
      "source": [
        "**Logistic Regression**"
      ],
      "metadata": {
        "id": "ZmLuU8NScghC"
      },
      "id": "ZmLuU8NScghC"
    },
    {
      "cell_type": "code",
      "execution_count": null,
      "id": "c430f8d7",
      "metadata": {
        "colab": {
          "base_uri": "https://localhost:8080/"
        },
        "id": "c430f8d7",
        "outputId": "eabcc176-1e9b-4ce5-b915-496868cc0d06"
      },
      "outputs": [
        {
          "output_type": "stream",
          "name": "stdout",
          "text": [
            "              precision    recall  f1-score   support\n",
            "\n",
            "       Cargo       0.60      0.98      0.74       484\n",
            "     Fishing       0.46      0.34      0.39        95\n",
            "    Military       0.17      0.05      0.07        21\n",
            "   Passenger       0.00      0.00      0.00        40\n",
            "    Pleasure       0.42      0.79      0.55       129\n",
            "        Rare       0.43      0.10      0.16        63\n",
            "         SAR       0.27      0.11      0.15        38\n",
            "     Sailing       1.00      0.01      0.03        68\n",
            "      Tanker       0.25      0.01      0.02       206\n",
            "         Tug       0.16      0.12      0.14        25\n",
            "\n",
            "    accuracy                           0.54      1169\n",
            "   macro avg       0.38      0.25      0.23      1169\n",
            "weighted avg       0.47      0.54      0.42      1169\n",
            "\n",
            "[[476   3   1   0   0   2   0   0   1   1]\n",
            " [ 17  32   0   0  40   1   1   0   1   3]\n",
            " [ 15   0   1   0   1   1   0   0   1   2]\n",
            " [ 24   4   0   0   9   1   0   0   1   1]\n",
            " [  3  15   1   0 102   0   5   0   0   3]\n",
            " [ 36   2   3   0   7   6   4   0   0   5]\n",
            " [  7   2   0   0  23   0   4   0   1   1]\n",
            " [  1   9   0   0  56   0   1   1   0   0]\n",
            " [202   0   0   0   0   2   0   0   2   0]\n",
            " [ 15   2   0   0   3   1   0   0   1   3]]\n"
          ]
        },
        {
          "output_type": "stream",
          "name": "stderr",
          "text": [
            "/usr/local/lib/python3.8/dist-packages/sklearn/linear_model/_logistic.py:814: ConvergenceWarning: lbfgs failed to converge (status=1):\n",
            "STOP: TOTAL NO. of ITERATIONS REACHED LIMIT.\n",
            "\n",
            "Increase the number of iterations (max_iter) or scale the data as shown in:\n",
            "    https://scikit-learn.org/stable/modules/preprocessing.html\n",
            "Please also refer to the documentation for alternative solver options:\n",
            "    https://scikit-learn.org/stable/modules/linear_model.html#logistic-regression\n",
            "  n_iter_i = _check_optimize_result(\n",
            "/usr/local/lib/python3.8/dist-packages/sklearn/metrics/_classification.py:1318: UndefinedMetricWarning: Precision and F-score are ill-defined and being set to 0.0 in labels with no predicted samples. Use `zero_division` parameter to control this behavior.\n",
            "  _warn_prf(average, modifier, msg_start, len(result))\n",
            "/usr/local/lib/python3.8/dist-packages/sklearn/metrics/_classification.py:1318: UndefinedMetricWarning: Precision and F-score are ill-defined and being set to 0.0 in labels with no predicted samples. Use `zero_division` parameter to control this behavior.\n",
            "  _warn_prf(average, modifier, msg_start, len(result))\n",
            "/usr/local/lib/python3.8/dist-packages/sklearn/metrics/_classification.py:1318: UndefinedMetricWarning: Precision and F-score are ill-defined and being set to 0.0 in labels with no predicted samples. Use `zero_division` parameter to control this behavior.\n",
            "  _warn_prf(average, modifier, msg_start, len(result))\n"
          ]
        }
      ],
      "source": [
        "from sklearn.linear_model import LogisticRegression\n",
        "lr = LogisticRegression(max_iter=2000)\n",
        "lr.fit(X_train,y_train)\n",
        "y_pred = lr.predict(X_test)\n",
        "print(classification_report(y_test, y_pred))\n",
        "from sklearn.metrics import confusion_matrix\n",
        "print(confusion_matrix(y_test, y_pred))"
      ]
    },
    {
      "cell_type": "markdown",
      "source": [
        "**Naive Bayes Classifier**"
      ],
      "metadata": {
        "id": "53jpuGDUaxKc"
      },
      "id": "53jpuGDUaxKc"
    },
    {
      "cell_type": "code",
      "source": [
        "from sklearn.naive_bayes import GaussianNB\n",
        "model=GaussianNB()\n",
        "#fit the model with the training data\n",
        "model.fit(X_train,y_train)\n",
        "#predict the target on the train dataset\n",
        "predict_train=model.predict(X_train)\n",
        "#predict the target on the test dataset\n",
        "predict_test=model.predict(X_test)\n",
        "print('Target on test data',predict_test)"
      ],
      "metadata": {
        "colab": {
          "base_uri": "https://localhost:8080/"
        },
        "id": "uocJSZJNa0nQ",
        "outputId": "da1f421c-448b-44ae-c12e-e1da8eb85239"
      },
      "id": "uocJSZJNa0nQ",
      "execution_count": null,
      "outputs": [
        {
          "output_type": "stream",
          "name": "stdout",
          "text": [
            "Target on test data ['Fishing' 'Pleasure' 'Tug' ... 'Tanker' 'Tug' 'Sailing']\n"
          ]
        }
      ]
    },
    {
      "cell_type": "markdown",
      "source": [
        "**SVM**"
      ],
      "metadata": {
        "id": "9inXT-7xJQ-_"
      },
      "id": "9inXT-7xJQ-_"
    },
    {
      "cell_type": "code",
      "source": [
        "from sklearn.svm import LinearSVC\n",
        "svc = LinearSVC()\n",
        "svc.fit(X_train,y_train)\n",
        "y_pred=svc.predict(X_test)\n",
        "confusion_matrix(y_test,y_pred)"
      ],
      "metadata": {
        "colab": {
          "base_uri": "https://localhost:8080/"
        },
        "id": "X-xJbH-iJUvp",
        "outputId": "245c85ef-fbf4-41f2-bfc6-a2fc01acbb50"
      },
      "id": "X-xJbH-iJUvp",
      "execution_count": null,
      "outputs": [
        {
          "output_type": "stream",
          "name": "stderr",
          "text": [
            "/usr/local/lib/python3.8/dist-packages/sklearn/svm/_base.py:1206: ConvergenceWarning: Liblinear failed to converge, increase the number of iterations.\n",
            "  warnings.warn(\n"
          ]
        },
        {
          "output_type": "execute_result",
          "data": {
            "text/plain": [
              "array([[472,   1,   0,   0,   6,   1,   0,   0,   2,   2],\n",
              "       [ 18,  25,   0,   0,  45,   0,   1,   0,   3,   3],\n",
              "       [ 18,   0,   2,   0,   1,   0,   0,   0,   0,   0],\n",
              "       [ 24,   0,   1,   0,  13,   1,   0,   0,   1,   0],\n",
              "       [  3,   1,   1,   0, 117,   0,   5,   0,   0,   2],\n",
              "       [ 40,   1,   4,   0,   9,   1,   2,   0,   1,   5],\n",
              "       [  7,   0,   0,   0,  25,   0,   4,   0,   1,   1],\n",
              "       [  1,   0,   0,   0,  66,   0,   1,   0,   0,   0],\n",
              "       [201,   0,   1,   0,   0,   1,   0,   0,   3,   0],\n",
              "       [ 15,   1,   2,   0,   2,   0,   0,   0,   1,   4]])"
            ]
          },
          "metadata": {},
          "execution_count": 91
        }
      ]
    },
    {
      "cell_type": "code",
      "source": [
        "print(\"Accuracy score  %.4f\" %metrics.accuracy_score(y_test, y_pred))"
      ],
      "metadata": {
        "colab": {
          "base_uri": "https://localhost:8080/"
        },
        "id": "6tlQgzjiLTNA",
        "outputId": "49bcda59-e5d6-441b-fe2c-0ec31fc17258"
      },
      "id": "6tlQgzjiLTNA",
      "execution_count": null,
      "outputs": [
        {
          "output_type": "stream",
          "name": "stdout",
          "text": [
            "Accuracy score  0.5372\n"
          ]
        }
      ]
    }
  ],
  "metadata": {
    "colab": {
      "provenance": [],
      "include_colab_link": true
    },
    "kernelspec": {
      "display_name": "Python 3 (ipykernel)",
      "language": "python",
      "name": "python3"
    },
    "language_info": {
      "codemirror_mode": {
        "name": "ipython",
        "version": 3
      },
      "file_extension": ".py",
      "mimetype": "text/x-python",
      "name": "python",
      "nbconvert_exporter": "python",
      "pygments_lexer": "ipython3",
      "version": "3.9.7"
    },
    "papermill": {
      "default_parameters": {},
      "duration": 4256.595709,
      "end_time": "2022-04-08T09:30:58.885184",
      "environment_variables": {},
      "exception": null,
      "input_path": "__notebook__.ipynb",
      "output_path": "__notebook__.ipynb",
      "parameters": {},
      "start_time": "2022-04-08T08:20:02.289475",
      "version": "2.3.3"
    }
  },
  "nbformat": 4,
  "nbformat_minor": 5
}