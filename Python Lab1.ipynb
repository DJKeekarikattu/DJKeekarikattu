{
  "nbformat": 4,
  "nbformat_minor": 0,
  "metadata": {
    "colab": {
      "provenance": [],
      "authorship_tag": "ABX9TyMvlP54GJF3YB4Me/GQ7INV",
      "include_colab_link": true
    },
    "kernelspec": {
      "name": "python3",
      "display_name": "Python 3"
    },
    "language_info": {
      "name": "python"
    }
  },
  "cells": [
    {
      "cell_type": "markdown",
      "metadata": {
        "id": "view-in-github",
        "colab_type": "text"
      },
      "source": [
        "<a href=\"https://colab.research.google.com/github/DeepuJose24/DJKeekarikattu/blob/main/Python%20Lab1.ipynb\" target=\"_parent\"><img src=\"https://colab.research.google.com/assets/colab-badge.svg\" alt=\"Open In Colab\"/></a>"
      ]
    },
    {
      "cell_type": "code",
      "execution_count": null,
      "metadata": {
        "id": "I7n-QoyLmfKa"
      },
      "outputs": [],
      "source": []
    },
    {
      "cell_type": "code",
      "source": [
        "from numpy.core.numeric import array_equal\n",
        "# load a matrix\n",
        "import numpy as np\n",
        "\n",
        "\n",
        "np.array[1,2,3]\n",
        "  "
      ],
      "metadata": {
        "colab": {
          "base_uri": "https://localhost:8080/",
          "height": 217
        },
        "id": "89AMNKD1mjNp",
        "outputId": "d240ed74-2d84-441b-e851-90cf99fd87c2"
      },
      "execution_count": 8,
      "outputs": [
        {
          "output_type": "error",
          "ename": "TypeError",
          "evalue": "ignored",
          "traceback": [
            "\u001b[0;31m---------------------------------------------------------------------------\u001b[0m",
            "\u001b[0;31mTypeError\u001b[0m                                 Traceback (most recent call last)",
            "\u001b[0;32m<ipython-input-8-024ec1531b8b>\u001b[0m in \u001b[0;36m<module>\u001b[0;34m\u001b[0m\n\u001b[1;32m      4\u001b[0m \u001b[0;34m\u001b[0m\u001b[0m\n\u001b[1;32m      5\u001b[0m \u001b[0;34m\u001b[0m\u001b[0m\n\u001b[0;32m----> 6\u001b[0;31m \u001b[0mnp\u001b[0m\u001b[0;34m.\u001b[0m\u001b[0marray\u001b[0m\u001b[0;34m[\u001b[0m\u001b[0;36m1\u001b[0m\u001b[0;34m,\u001b[0m\u001b[0;36m2\u001b[0m\u001b[0;34m,\u001b[0m\u001b[0;36m3\u001b[0m\u001b[0;34m]\u001b[0m\u001b[0;34m\u001b[0m\u001b[0;34m\u001b[0m\u001b[0m\n\u001b[0m\u001b[1;32m      7\u001b[0m \u001b[0;34m\u001b[0m\u001b[0m\n",
            "\u001b[0;31mTypeError\u001b[0m: 'builtin_function_or_method' object is not subscriptable"
          ]
        }
      ]
    },
    {
      "cell_type": "code",
      "source": [
        "# load a matrix\n",
        "import numpy as np\n",
        "arr= np.array ([1,2,3])\n",
        "A= np.array([1,2,3,4])\n",
        "B=np.array([[1],[2],[3],[4]])\n",
        "matrix=np.array([[1,2,3],[3,4,5],[4,4,6]])\n",
        "print(matrix)\n",
        "from scipy import sparse\n",
        "matrix_sparse = sparse.csr_matrix(matrix)\n",
        "print(matrix_sparse)\n",
        "\n",
        "vector=np.array([1,2,3,4,5,6])\n",
        "vector[3]\n",
        "vector[5]\n",
        "\n",
        "vector[1]\n",
        "matrix[1,1]"
      ],
      "metadata": {
        "colab": {
          "base_uri": "https://localhost:8080/"
        },
        "id": "qGn0Ivw8obVj",
        "outputId": "07315761-a732-4e5f-8880-d023763e84dd"
      },
      "execution_count": 24,
      "outputs": [
        {
          "output_type": "stream",
          "name": "stdout",
          "text": [
            "[[1 2 3]\n",
            " [3 4 5]\n",
            " [4 4 6]]\n",
            "  (0, 0)\t1\n",
            "  (0, 1)\t2\n",
            "  (0, 2)\t3\n",
            "  (1, 0)\t3\n",
            "  (1, 1)\t4\n",
            "  (1, 2)\t5\n",
            "  (2, 0)\t4\n",
            "  (2, 1)\t4\n",
            "  (2, 2)\t6\n"
          ]
        },
        {
          "output_type": "execute_result",
          "data": {
            "text/plain": [
              "4"
            ]
          },
          "metadata": {},
          "execution_count": 24
        }
      ]
    },
    {
      "cell_type": "code",
      "source": [
        "import numpy as np\n",
        "matrix= np.array([[1,2,3], [4,0,8],[3,8,6]])\n",
        "print(matrix)\n",
        "matrix[2,0]"
      ],
      "metadata": {
        "colab": {
          "base_uri": "https://localhost:8080/"
        },
        "id": "7W0WUGv-r_ge",
        "outputId": "bf354c49-de98-487c-8979-df11062678e1"
      },
      "execution_count": 29,
      "outputs": [
        {
          "output_type": "stream",
          "name": "stdout",
          "text": [
            "[[1 2 3]\n",
            " [4 0 8]\n",
            " [3 8 6]]\n"
          ]
        },
        {
          "output_type": "execute_result",
          "data": {
            "text/plain": [
              "3"
            ]
          },
          "metadata": {},
          "execution_count": 29
        }
      ]
    },
    {
      "cell_type": "code",
      "source": [
        "import numpy as np\n",
        "vector= np.array([1,2,3,4,5,6])\n",
        "vector[3:]\n",
        "vector[-1]\n",
        "matrix=np.array([[1,0,4,5],[2,3,5,1],[5,0,0,3],[4,5,6,1]])\n",
        "print(matrix)\n",
        "matrix[:2,:]"
      ],
      "metadata": {
        "colab": {
          "base_uri": "https://localhost:8080/"
        },
        "id": "E3mOJl5wsr5V",
        "outputId": "b1989953-bb3d-421e-b843-5ecbedf902a1"
      },
      "execution_count": 36,
      "outputs": [
        {
          "output_type": "stream",
          "name": "stdout",
          "text": [
            "[[1 0 4 5]\n",
            " [2 3 5 1]\n",
            " [5 0 0 3]\n",
            " [4 5 6 1]]\n"
          ]
        },
        {
          "output_type": "execute_result",
          "data": {
            "text/plain": [
              "array([[1, 0, 4, 5],\n",
              "       [2, 3, 5, 1]])"
            ]
          },
          "metadata": {},
          "execution_count": 36
        }
      ]
    }
  ]
}