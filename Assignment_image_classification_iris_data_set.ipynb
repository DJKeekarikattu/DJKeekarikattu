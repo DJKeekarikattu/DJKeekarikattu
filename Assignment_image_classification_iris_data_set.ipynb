{
  "nbformat": 4,
  "nbformat_minor": 0,
  "metadata": {
    "colab": {
      "provenance": [],
      "authorship_tag": "ABX9TyOcVra/Q7fs8qshZ3+BUeIZ",
      "include_colab_link": true
    },
    "kernelspec": {
      "name": "python3",
      "display_name": "Python 3"
    },
    "language_info": {
      "name": "python"
    }
  },
  "cells": [
    {
      "cell_type": "markdown",
      "metadata": {
        "id": "view-in-github",
        "colab_type": "text"
      },
      "source": [
        "<a href=\"https://colab.research.google.com/github/DeepuJose24/DJKeekarikattu/blob/main/Assignment_image_classification_iris_data_set.ipynb\" target=\"_parent\"><img src=\"https://colab.research.google.com/assets/colab-badge.svg\" alt=\"Open In Colab\"/></a>"
      ]
    },
    {
      "cell_type": "code",
      "execution_count": 80,
      "metadata": {
        "id": "DzFmwjDEGUzE"
      },
      "outputs": [],
      "source": [
        "import os\n",
        "import re\n",
        "import pandas as pd\n",
        "import numpy as np\n",
        "import matplotlib.pyplot as plt\n",
        "import matplotlib.image as mpimg\n",
        "import seaborn as sns\n"
      ]
    },
    {
      "cell_type": "code",
      "source": [
        "data = pd.read_csv(\"/content/IRIS.csv\")"
      ],
      "metadata": {
        "id": "ETGW7edkGuTk"
      },
      "execution_count": 81,
      "outputs": []
    },
    {
      "cell_type": "code",
      "source": [
        "data.head()"
      ],
      "metadata": {
        "colab": {
          "base_uri": "https://localhost:8080/",
          "height": 206
        },
        "id": "lkHvLhLXHbLt",
        "outputId": "5cc55bc3-57f0-4b67-8451-5d48d0b674ff"
      },
      "execution_count": 82,
      "outputs": [
        {
          "output_type": "execute_result",
          "data": {
            "text/plain": [
              "   sepal_length  sepal_width  petal_length  petal_width      species\n",
              "0           5.1          3.5           1.4          0.2  Iris-setosa\n",
              "1           4.9          3.0           1.4          0.2  Iris-setosa\n",
              "2           4.7          3.2           1.3          0.2  Iris-setosa\n",
              "3           4.6          3.1           1.5          0.2  Iris-setosa\n",
              "4           5.0          3.6           1.4          0.2  Iris-setosa"
            ],
            "text/html": [
              "\n",
              "  <div id=\"df-7c1d3440-3e71-4495-a799-90df5022d413\">\n",
              "    <div class=\"colab-df-container\">\n",
              "      <div>\n",
              "<style scoped>\n",
              "    .dataframe tbody tr th:only-of-type {\n",
              "        vertical-align: middle;\n",
              "    }\n",
              "\n",
              "    .dataframe tbody tr th {\n",
              "        vertical-align: top;\n",
              "    }\n",
              "\n",
              "    .dataframe thead th {\n",
              "        text-align: right;\n",
              "    }\n",
              "</style>\n",
              "<table border=\"1\" class=\"dataframe\">\n",
              "  <thead>\n",
              "    <tr style=\"text-align: right;\">\n",
              "      <th></th>\n",
              "      <th>sepal_length</th>\n",
              "      <th>sepal_width</th>\n",
              "      <th>petal_length</th>\n",
              "      <th>petal_width</th>\n",
              "      <th>species</th>\n",
              "    </tr>\n",
              "  </thead>\n",
              "  <tbody>\n",
              "    <tr>\n",
              "      <th>0</th>\n",
              "      <td>5.1</td>\n",
              "      <td>3.5</td>\n",
              "      <td>1.4</td>\n",
              "      <td>0.2</td>\n",
              "      <td>Iris-setosa</td>\n",
              "    </tr>\n",
              "    <tr>\n",
              "      <th>1</th>\n",
              "      <td>4.9</td>\n",
              "      <td>3.0</td>\n",
              "      <td>1.4</td>\n",
              "      <td>0.2</td>\n",
              "      <td>Iris-setosa</td>\n",
              "    </tr>\n",
              "    <tr>\n",
              "      <th>2</th>\n",
              "      <td>4.7</td>\n",
              "      <td>3.2</td>\n",
              "      <td>1.3</td>\n",
              "      <td>0.2</td>\n",
              "      <td>Iris-setosa</td>\n",
              "    </tr>\n",
              "    <tr>\n",
              "      <th>3</th>\n",
              "      <td>4.6</td>\n",
              "      <td>3.1</td>\n",
              "      <td>1.5</td>\n",
              "      <td>0.2</td>\n",
              "      <td>Iris-setosa</td>\n",
              "    </tr>\n",
              "    <tr>\n",
              "      <th>4</th>\n",
              "      <td>5.0</td>\n",
              "      <td>3.6</td>\n",
              "      <td>1.4</td>\n",
              "      <td>0.2</td>\n",
              "      <td>Iris-setosa</td>\n",
              "    </tr>\n",
              "  </tbody>\n",
              "</table>\n",
              "</div>\n",
              "      <button class=\"colab-df-convert\" onclick=\"convertToInteractive('df-7c1d3440-3e71-4495-a799-90df5022d413')\"\n",
              "              title=\"Convert this dataframe to an interactive table.\"\n",
              "              style=\"display:none;\">\n",
              "        \n",
              "  <svg xmlns=\"http://www.w3.org/2000/svg\" height=\"24px\"viewBox=\"0 0 24 24\"\n",
              "       width=\"24px\">\n",
              "    <path d=\"M0 0h24v24H0V0z\" fill=\"none\"/>\n",
              "    <path d=\"M18.56 5.44l.94 2.06.94-2.06 2.06-.94-2.06-.94-.94-2.06-.94 2.06-2.06.94zm-11 1L8.5 8.5l.94-2.06 2.06-.94-2.06-.94L8.5 2.5l-.94 2.06-2.06.94zm10 10l.94 2.06.94-2.06 2.06-.94-2.06-.94-.94-2.06-.94 2.06-2.06.94z\"/><path d=\"M17.41 7.96l-1.37-1.37c-.4-.4-.92-.59-1.43-.59-.52 0-1.04.2-1.43.59L10.3 9.45l-7.72 7.72c-.78.78-.78 2.05 0 2.83L4 21.41c.39.39.9.59 1.41.59.51 0 1.02-.2 1.41-.59l7.78-7.78 2.81-2.81c.8-.78.8-2.07 0-2.86zM5.41 20L4 18.59l7.72-7.72 1.47 1.35L5.41 20z\"/>\n",
              "  </svg>\n",
              "      </button>\n",
              "      \n",
              "  <style>\n",
              "    .colab-df-container {\n",
              "      display:flex;\n",
              "      flex-wrap:wrap;\n",
              "      gap: 12px;\n",
              "    }\n",
              "\n",
              "    .colab-df-convert {\n",
              "      background-color: #E8F0FE;\n",
              "      border: none;\n",
              "      border-radius: 50%;\n",
              "      cursor: pointer;\n",
              "      display: none;\n",
              "      fill: #1967D2;\n",
              "      height: 32px;\n",
              "      padding: 0 0 0 0;\n",
              "      width: 32px;\n",
              "    }\n",
              "\n",
              "    .colab-df-convert:hover {\n",
              "      background-color: #E2EBFA;\n",
              "      box-shadow: 0px 1px 2px rgba(60, 64, 67, 0.3), 0px 1px 3px 1px rgba(60, 64, 67, 0.15);\n",
              "      fill: #174EA6;\n",
              "    }\n",
              "\n",
              "    [theme=dark] .colab-df-convert {\n",
              "      background-color: #3B4455;\n",
              "      fill: #D2E3FC;\n",
              "    }\n",
              "\n",
              "    [theme=dark] .colab-df-convert:hover {\n",
              "      background-color: #434B5C;\n",
              "      box-shadow: 0px 1px 3px 1px rgba(0, 0, 0, 0.15);\n",
              "      filter: drop-shadow(0px 1px 2px rgba(0, 0, 0, 0.3));\n",
              "      fill: #FFFFFF;\n",
              "    }\n",
              "  </style>\n",
              "\n",
              "      <script>\n",
              "        const buttonEl =\n",
              "          document.querySelector('#df-7c1d3440-3e71-4495-a799-90df5022d413 button.colab-df-convert');\n",
              "        buttonEl.style.display =\n",
              "          google.colab.kernel.accessAllowed ? 'block' : 'none';\n",
              "\n",
              "        async function convertToInteractive(key) {\n",
              "          const element = document.querySelector('#df-7c1d3440-3e71-4495-a799-90df5022d413');\n",
              "          const dataTable =\n",
              "            await google.colab.kernel.invokeFunction('convertToInteractive',\n",
              "                                                     [key], {});\n",
              "          if (!dataTable) return;\n",
              "\n",
              "          const docLinkHtml = 'Like what you see? Visit the ' +\n",
              "            '<a target=\"_blank\" href=https://colab.research.google.com/notebooks/data_table.ipynb>data table notebook</a>'\n",
              "            + ' to learn more about interactive tables.';\n",
              "          element.innerHTML = '';\n",
              "          dataTable['output_type'] = 'display_data';\n",
              "          await google.colab.output.renderOutput(dataTable, element);\n",
              "          const docLink = document.createElement('div');\n",
              "          docLink.innerHTML = docLinkHtml;\n",
              "          element.appendChild(docLink);\n",
              "        }\n",
              "      </script>\n",
              "    </div>\n",
              "  </div>\n",
              "  "
            ]
          },
          "metadata": {},
          "execution_count": 82
        }
      ]
    },
    {
      "cell_type": "code",
      "source": [
        "data.shape"
      ],
      "metadata": {
        "colab": {
          "base_uri": "https://localhost:8080/"
        },
        "id": "nRUd63z1Hwpp",
        "outputId": "6d775034-b4c9-4f31-fa3b-99b3d5f2f1fd"
      },
      "execution_count": 83,
      "outputs": [
        {
          "output_type": "execute_result",
          "data": {
            "text/plain": [
              "(150, 5)"
            ]
          },
          "metadata": {},
          "execution_count": 83
        }
      ]
    },
    {
      "cell_type": "code",
      "source": [
        "data.info()"
      ],
      "metadata": {
        "colab": {
          "base_uri": "https://localhost:8080/"
        },
        "id": "4h6CtQsRYIE7",
        "outputId": "dc5c8ddc-b5fd-479c-cb72-003621325d35"
      },
      "execution_count": 84,
      "outputs": [
        {
          "output_type": "stream",
          "name": "stdout",
          "text": [
            "<class 'pandas.core.frame.DataFrame'>\n",
            "RangeIndex: 150 entries, 0 to 149\n",
            "Data columns (total 5 columns):\n",
            " #   Column        Non-Null Count  Dtype  \n",
            "---  ------        --------------  -----  \n",
            " 0   sepal_length  150 non-null    float64\n",
            " 1   sepal_width   150 non-null    float64\n",
            " 2   petal_length  150 non-null    float64\n",
            " 3   petal_width   150 non-null    float64\n",
            " 4   species       150 non-null    object \n",
            "dtypes: float64(4), object(1)\n",
            "memory usage: 6.0+ KB\n"
          ]
        }
      ]
    },
    {
      "cell_type": "code",
      "source": [
        "plt.figure(figsize=(10,10))\n",
        "plt.hist(x = data['sepal_length'], bins = 20)\n",
        "plt.xlabel(\"\\nSepal Length\",fontsize=15,color=\"black\")\n",
        "plt.ylabel(\"Frequency\\n\",fontsize=15,color=\"black\")\n",
        "plt.title(\"Histogram of Sepal Length\\n\",fontsize=20,color=\"black\")\n",
        "plt.show()"
      ],
      "metadata": {
        "colab": {
          "base_uri": "https://localhost:8080/",
          "height": 671
        },
        "id": "7Xquj5aLYRFr",
        "outputId": "1e9c2d57-8bc9-43ac-ac06-a267568e2d46"
      },
      "execution_count": 85,
      "outputs": [
        {
          "output_type": "display_data",
          "data": {
            "text/plain": [
              "<Figure size 720x720 with 1 Axes>"
            ],
            "image/png": "[encoded data removed]"
          },
          "metadata": {
            "needs_background": "light"
          }
        }
      ]
    },
    {
      "cell_type": "code",
      "source": [
        "fig, axes = plt.subplots(2, 2, figsize=(15,15))\n",
        " \n",
        "axes[0,0].set_title(\"Sepal Length\\n\",fontsize=15,color=\"navy\")\n",
        "axes[0,0].hist(data['sepal_length'], bins=7)\n",
        " \n",
        "axes[0,1].set_title(\"Sepal Width\\n\",fontsize=15,color=\"navy\")\n",
        "axes[0,1].hist(data['sepal_width'], bins=5);\n",
        " \n",
        "axes[1,0].set_title(\"Petal Length\\n\",color=\"cornflowerblue\",fontsize=15)\n",
        "axes[1,0].hist(data['petal_length'], bins=6);\n",
        " \n",
        "axes[1,1].set_title(\"Petal Width\\n\",fontsize=15,color=\"lavender\")\n",
        "axes[1,1].hist(data['petal_width'], bins=6);"
      ],
      "metadata": {
        "colab": {
          "base_uri": "https://localhost:8080/",
          "height": 899
        },
        "id": "mW_t9ssoYYyX",
        "outputId": "535a5dfd-58fe-432f-e1a7-18d47f7bb956"
      },
      "execution_count": 86,
      "outputs": [
        {
          "output_type": "display_data",
          "data": {
            "text/plain": [
              "<Figure size 1080x1080 with 4 Axes>"
            ],
            "image/png": "[encoded data removed]"
          },
          "metadata": {
            "needs_background": "light"
          }
        }
      ]
    },
    {
      "cell_type": "code",
      "source": [
        "X=data.drop(columns=['species'])\n",
        "y=data['species']\n"
      ],
      "metadata": {
        "id": "N2r9_mnueWDd"
      },
      "execution_count": 130,
      "outputs": []
    },
    {
      "cell_type": "code",
      "source": [
        "from sklearn.preprocessing import LabelEncoder\n",
        "encoder = LabelEncoder()\n",
        "y = encoder.fit_transform(y)"
      ],
      "metadata": {
        "id": "l1-JwYRIub26"
      },
      "execution_count": 131,
      "outputs": []
    },
    {
      "cell_type": "code",
      "source": [
        "#Metrics\n",
        "from sklearn.metrics import make_scorer, accuracy_score,precision_score\n",
        "from sklearn.metrics import classification_report\n",
        "from sklearn.metrics import confusion_matrix\n",
        "from sklearn.metrics import accuracy_score ,precision_score,recall_score,f1_score\n",
        "\n",
        "#Model Select\n",
        "\n",
        "from sklearn.ensemble import RandomForestClassifier\n",
        "from sklearn.model_selection import train_test_split\n",
        "from sklearn.ensemble import RandomForestClassifier\n",
        "from sklearn import linear_model\n",
        "from sklearn.linear_model import SGDClassifier\n",
        "from sklearn.tree import DecisionTreeClassifier"
      ],
      "metadata": {
        "id": "hzFC9vVienB-"
      },
      "execution_count": 132,
      "outputs": []
    },
    {
      "cell_type": "code",
      "source": [
        "#Train and Test split\n",
        "X_train,X_test,y_train,y_test=train_test_split(X,y,test_size=0.3,random_state=22)\n"
      ],
      "metadata": {
        "id": "Z8aYieroe5SH"
      },
      "execution_count": 133,
      "outputs": []
    },
    {
      "cell_type": "code",
      "source": [
        "from sklearn.linear_model import SGDClassifier\n",
        "sgd_clf=SGDClassifier(max_iter=5, tol=-np.infty, random_state=42)\n",
        "sgd_clf.fit(X_train,y_train)\n",
        "SGDClassifier(alpha=0.0001, average=False, class_weight=None,\n",
        "              early_stopping=False, epsilon=0.1, eta0=0.0,fit_intercept=True,\n",
        "              l1_ratio=0.15, learning_rate='optimal', loss='hinge',max_iter=5,\n",
        "              n_iter_no_change=5, n_jobs=None, penalty='12',power_t=0.5,\n",
        "              random_state=42, shuffle=True, tol=-np.infty, validation_fraction=0.1,\n",
        "              verbose=0, warm_start=False)"
      ],
      "metadata": {
        "colab": {
          "base_uri": "https://localhost:8080/"
        },
        "id": "wtHFf_cDg3bl",
        "outputId": "6bedbd1b-0f6e-4534-de77-2c516b1477fe"
      },
      "execution_count": 134,
      "outputs": [
        {
          "output_type": "execute_result",
          "data": {
            "text/plain": [
              "SGDClassifier(max_iter=5, penalty='12', random_state=42, tol=-inf)"
            ]
          },
          "metadata": {},
          "execution_count": 134
        }
      ]
    },
    {
      "cell_type": "code",
      "source": [
        "from sklearn.linear_model import SGDClassifier\n",
        "from sklearn.ensemble import RandomForestClassifier\n",
        "\n",
        "sgd_clf = SGDClassifier(random_state=42)\n",
        "ranFor_clf = RandomForestClassifier(random_state=42)"
      ],
      "metadata": {
        "id": "SjcUIrozg8el"
      },
      "execution_count": 135,
      "outputs": []
    },
    {
      "cell_type": "code",
      "source": [
        "from sklearn.model_selection import cross_val_predict\n",
        "y_pred_SGD = cross_val_predict(sgd_clf, X_train, y_train, cv=3)\n",
        "y_pred_ranFor = cross_val_predict(ranFor_clf, X_train, y_train, cv=3)"
      ],
      "metadata": {
        "id": "LJdBYUAZhFoj"
      },
      "execution_count": 136,
      "outputs": []
    },
    {
      "cell_type": "code",
      "source": [
        "# Precision, Recall, and F1\n",
        "from sklearn.metrics import precision_score, recall_score, f1_score\n",
        "sgd_metrics = [precision_score(y_train, y_pred_SGD,average='micro'), recall_score(y_train, y_pred_SGD,average='micro'), f1_score(y_train, y_pred_SGD,average='micro')]\n",
        "ranFor_metrics = [precision_score(y_train, y_pred_ranFor,average='micro'), recall_score(y_train, y_pred_ranFor,average='micro'), f1_score(y_train, y_pred_ranFor,average='micro')]\n"
      ],
      "metadata": {
        "id": "ArRJo056iMFa"
      },
      "execution_count": 138,
      "outputs": []
    },
    {
      "cell_type": "code",
      "source": [
        "# Display our results in a data frame\n",
        "df_metrics = pd.DataFrame({'SGD_Metrics' : sgd_metrics, 'ranFor_metrics' : ranFor_metrics})\n",
        "df_metrics.index = ['Precision', 'Recall', 'F1']\n",
        "df_metrics\n"
      ],
      "metadata": {
        "colab": {
          "base_uri": "https://localhost:8080/",
          "height": 143
        },
        "id": "l1GeMG31i8Uv",
        "outputId": "e0a13a18-29c6-4ad6-8ea4-e43c82061a7c"
      },
      "execution_count": 139,
      "outputs": [
        {
          "output_type": "execute_result",
          "data": {
            "text/plain": [
              "           SGD_Metrics  ranFor_metrics\n",
              "Precision     0.580952        0.961905\n",
              "Recall        0.580952        0.961905\n",
              "F1            0.580952        0.961905"
            ],
            "text/html": [
              "\n",
              "  <div id=\"df-f85844ae-283b-4e3e-875c-c2a1d0c2d7fc\">\n",
              "    <div class=\"colab-df-container\">\n",
              "      <div>\n",
              "<style scoped>\n",
              "    .dataframe tbody tr th:only-of-type {\n",
              "        vertical-align: middle;\n",
              "    }\n",
              "\n",
              "    .dataframe tbody tr th {\n",
              "        vertical-align: top;\n",
              "    }\n",
              "\n",
              "    .dataframe thead th {\n",
              "        text-align: right;\n",
              "    }\n",
              "</style>\n",
              "<table border=\"1\" class=\"dataframe\">\n",
              "  <thead>\n",
              "    <tr style=\"text-align: right;\">\n",
              "      <th></th>\n",
              "      <th>SGD_Metrics</th>\n",
              "      <th>ranFor_metrics</th>\n",
              "    </tr>\n",
              "  </thead>\n",
              "  <tbody>\n",
              "    <tr>\n",
              "      <th>Precision</th>\n",
              "      <td>0.580952</td>\n",
              "      <td>0.961905</td>\n",
              "    </tr>\n",
              "    <tr>\n",
              "      <th>Recall</th>\n",
              "      <td>0.580952</td>\n",
              "      <td>0.961905</td>\n",
              "    </tr>\n",
              "    <tr>\n",
              "      <th>F1</th>\n",
              "      <td>0.580952</td>\n",
              "      <td>0.961905</td>\n",
              "    </tr>\n",
              "  </tbody>\n",
              "</table>\n",
              "</div>\n",
              "      <button class=\"colab-df-convert\" onclick=\"convertToInteractive('df-f85844ae-283b-4e3e-875c-c2a1d0c2d7fc')\"\n",
              "              title=\"Convert this dataframe to an interactive table.\"\n",
              "              style=\"display:none;\">\n",
              "        \n",
              "  <svg xmlns=\"http://www.w3.org/2000/svg\" height=\"24px\"viewBox=\"0 0 24 24\"\n",
              "       width=\"24px\">\n",
              "    <path d=\"M0 0h24v24H0V0z\" fill=\"none\"/>\n",
              "    <path d=\"M18.56 5.44l.94 2.06.94-2.06 2.06-.94-2.06-.94-.94-2.06-.94 2.06-2.06.94zm-11 1L8.5 8.5l.94-2.06 2.06-.94-2.06-.94L8.5 2.5l-.94 2.06-2.06.94zm10 10l.94 2.06.94-2.06 2.06-.94-2.06-.94-.94-2.06-.94 2.06-2.06.94z\"/><path d=\"M17.41 7.96l-1.37-1.37c-.4-.4-.92-.59-1.43-.59-.52 0-1.04.2-1.43.59L10.3 9.45l-7.72 7.72c-.78.78-.78 2.05 0 2.83L4 21.41c.39.39.9.59 1.41.59.51 0 1.02-.2 1.41-.59l7.78-7.78 2.81-2.81c.8-.78.8-2.07 0-2.86zM5.41 20L4 18.59l7.72-7.72 1.47 1.35L5.41 20z\"/>\n",
              "  </svg>\n",
              "      </button>\n",
              "      \n",
              "  <style>\n",
              "    .colab-df-container {\n",
              "      display:flex;\n",
              "      flex-wrap:wrap;\n",
              "      gap: 12px;\n",
              "    }\n",
              "\n",
              "    .colab-df-convert {\n",
              "      background-color: #E8F0FE;\n",
              "      border: none;\n",
              "      border-radius: 50%;\n",
              "      cursor: pointer;\n",
              "      display: none;\n",
              "      fill: #1967D2;\n",
              "      height: 32px;\n",
              "      padding: 0 0 0 0;\n",
              "      width: 32px;\n",
              "    }\n",
              "\n",
              "    .colab-df-convert:hover {\n",
              "      background-color: #E2EBFA;\n",
              "      box-shadow: 0px 1px 2px rgba(60, 64, 67, 0.3), 0px 1px 3px 1px rgba(60, 64, 67, 0.15);\n",
              "      fill: #174EA6;\n",
              "    }\n",
              "\n",
              "    [theme=dark] .colab-df-convert {\n",
              "      background-color: #3B4455;\n",
              "      fill: #D2E3FC;\n",
              "    }\n",
              "\n",
              "    [theme=dark] .colab-df-convert:hover {\n",
              "      background-color: #434B5C;\n",
              "      box-shadow: 0px 1px 3px 1px rgba(0, 0, 0, 0.15);\n",
              "      filter: drop-shadow(0px 1px 2px rgba(0, 0, 0, 0.3));\n",
              "      fill: #FFFFFF;\n",
              "    }\n",
              "  </style>\n",
              "\n",
              "      <script>\n",
              "        const buttonEl =\n",
              "          document.querySelector('#df-f85844ae-283b-4e3e-875c-c2a1d0c2d7fc button.colab-df-convert');\n",
              "        buttonEl.style.display =\n",
              "          google.colab.kernel.accessAllowed ? 'block' : 'none';\n",
              "\n",
              "        async function convertToInteractive(key) {\n",
              "          const element = document.querySelector('#df-f85844ae-283b-4e3e-875c-c2a1d0c2d7fc');\n",
              "          const dataTable =\n",
              "            await google.colab.kernel.invokeFunction('convertToInteractive',\n",
              "                                                     [key], {});\n",
              "          if (!dataTable) return;\n",
              "\n",
              "          const docLinkHtml = 'Like what you see? Visit the ' +\n",
              "            '<a target=\"_blank\" href=https://colab.research.google.com/notebooks/data_table.ipynb>data table notebook</a>'\n",
              "            + ' to learn more about interactive tables.';\n",
              "          element.innerHTML = '';\n",
              "          dataTable['output_type'] = 'display_data';\n",
              "          await google.colab.output.renderOutput(dataTable, element);\n",
              "          const docLink = document.createElement('div');\n",
              "          docLink.innerHTML = docLinkHtml;\n",
              "          element.appendChild(docLink);\n",
              "        }\n",
              "      </script>\n",
              "    </div>\n",
              "  </div>\n",
              "  "
            ]
          },
          "metadata": {},
          "execution_count": 139
        }
      ]
    },
    {
      "cell_type": "code",
      "source": [
        "# Get decision scores / prediction probabilities for each prediction\n",
        "y_score_SGD = cross_val_predict(sgd_clf, X_train, y_train, cv=3, method='decision_function')\n",
        "y_score_ranFor = cross_val_predict(ranFor_clf, X_train, y_train, cv=3, method='predict_proba')"
      ],
      "metadata": {
        "id": "_A_lPO7EjgXp"
      },
      "execution_count": 141,
      "outputs": []
    },
    {
      "cell_type": "code",
      "source": [
        "# Get predicted probabilities of positive class (the following yields same as decision score)\n",
        "y_score_ranFor = y_score_ranFor[:,1]\n",
        "\n",
        "y_score_SGD = y_score_SGD[:,1]"
      ],
      "metadata": {
        "id": "Y01DTWfajhVm"
      },
      "execution_count": 142,
      "outputs": []
    },
    {
      "cell_type": "code",
      "source": [
        "# Compute precision and recall for all possible thresholds using a precision recall curve\n",
        "from sklearn.metrics import precision_recall_curve\n",
        "ndarray:y_score_SGD\n",
        "prec_SGD, recall_SGD, threshold_SGD = precision_recall_curve(y_train, y_score_SGD,pos_label=1,sample_weight=None)\n",
        "prec_ranFor, recall_ranFor, threshold_ranFor = precision_recall_curve(y_train, y_score_ranFor, pos_label=1,sample_weight=None)\n"
      ],
      "metadata": {
        "id": "zXPR0rAumayH"
      },
      "execution_count": 144,
      "outputs": []
    },
    {
      "cell_type": "code",
      "source": [
        "# plot function\n",
        "def plot_PR_vs_threshold(precisions, recalls, thresholds):\n",
        "    plt.plot(thresholds, precisions[:-1], 'b--', label='Precision')\n",
        "    plt.plot(thresholds, recalls[:-1], 'g-', label='Recall')\n",
        "    plt.xlabel('Threshold')\n",
        "    plt.legend(loc='center right')\n",
        "\n",
        "plot_PR_vs_threshold(prec_SGD, recall_SGD, threshold_SGD)\n",
        "plt.show()\n",
        "\n",
        "plot_PR_vs_threshold(prec_SGD, recall_SGD, threshold_SGD)\n",
        "plt.show()\n",
        "\n",
        "plot_PR_vs_threshold(prec_ranFor, recall_ranFor, threshold_ranFor)\n",
        "plt.show()"
      ],
      "metadata": {
        "colab": {
          "base_uri": "https://localhost:8080/",
          "height": 803
        },
        "id": "P6qADp_eyKOe",
        "outputId": "e9fda17c-a73a-4049-af27-b58d5b2e3143"
      },
      "execution_count": 147,
      "outputs": [
        {
          "output_type": "display_data",
          "data": {
            "text/plain": [
              "<Figure size 432x288 with 1 Axes>"
            ],
            "image/png": "[encoded data removed]"
          },
          "metadata": {
            "needs_background": "light"
          }
        },
        {
          "output_type": "display_data",
          "data": {
            "text/plain": [
              "<Figure size 432x288 with 1 Axes>"
            ],
            "image/png": "[encoded data removed]"
          },
          "metadata": {
            "needs_background": "light"
          }
        },
        {
          "output_type": "display_data",
          "data": {
            "text/plain": [
              "<Figure size 432x288 with 1 Axes>"
            ],
            "image/png": "[encoded data removed]"
          },
          "metadata": {
            "needs_background": "light"
          }
        }
      ]
    },
    {
      "cell_type": "code",
      "source": [
        "# Now we focus on plotting the ROC curves and determining the AUC scores\n",
        "\n",
        "# ROC plotting function\n",
        "def plot_ROC(fpr, tpr, label=None):\n",
        "    plt.plot(fpr, tpr, linewidth=2, label=label)\n",
        "    plt.plot([0,1], [0,1], 'k--')\n",
        "    plt.xlabel('False Positive Rate')\n",
        "    plt.ylabel('True Positive Rate (Recall)')\n",
        "    \n",
        "# Plot each ROC curve\n",
        "from sklearn.metrics import roc_curve, roc_auc_score\n",
        "fpr_sgd, tpr_sgd, thesholds_sgd = roc_curve(y_train, y_score_SGD, pos_label=1, sample_weight=None)\n",
        "fpr_ranFor, tpr_ranFor, thresholds_ranFor = roc_curve(y_train, y_score_ranFor,pos_label=1, sample_weight=None)\n",
        "\n",
        "plt.plot(fpr_sgd, tpr_sgd, \"b:\", label='SGD')\n",
        "plot_ROC(fpr_ranFor, tpr_ranFor, label='RanForest')\n",
        "plt.legend(loc='lower right')\n",
        "plt.show()\n"
      ],
      "metadata": {
        "colab": {
          "base_uri": "https://localhost:8080/",
          "height": 279
        },
        "id": "d0GQKZpiykIu",
        "outputId": "f0b9423f-c612-4e77-8cb8-df359cf99039"
      },
      "execution_count": 150,
      "outputs": [
        {
          "output_type": "display_data",
          "data": {
            "text/plain": [
              "<Figure size 432x288 with 1 Axes>"
            ],
            "image/png": "[encoded data removed]"
          },
          "metadata": {
            "needs_background": "light"
          }
        }
      ]
    },
    {
      "cell_type": "code",
      "source": [
        "random_forest = RandomForestClassifier(n_estimators=100)\n",
        "random_forest.fit(X_train, y_train)\n",
        "Y_prediction = random_forest.predict(X_test)\n",
        "accuracy_rf=round(accuracy_score(y_test,Y_prediction)* 100, 2)\n",
        "acc_random_forest = round(random_forest.score(X_train, y_train) * 100, 2)\n",
        "\n",
        "\n",
        "cm = confusion_matrix(y_test, Y_prediction)\n",
        "accuracy = accuracy_score(y_test,Y_prediction)\n",
        "precision =precision_score(y_test, Y_prediction,average='micro')\n",
        "recall =  recall_score(y_test, Y_prediction,average='micro')\n",
        "f1 = f1_score(y_test,Y_prediction,average='micro')\n",
        "print('Confusion matrix for Random Forest\\n',cm)\n",
        "print('accuracy_random_Forest : %.3f' %accuracy)\n",
        "print('precision_random_Forest : %.3f' %precision)\n",
        "print('recall_random_Forest : %.3f' %recall)\n",
        "print('f1-score_random_Forest : %.3f' %f1)\n"
      ],
      "metadata": {
        "colab": {
          "base_uri": "https://localhost:8080/"
        },
        "id": "m-5h38enfE8u",
        "outputId": "0cb7ba48-fda6-482d-c40f-517251d80d99"
      },
      "execution_count": 145,
      "outputs": [
        {
          "output_type": "stream",
          "name": "stdout",
          "text": [
            "Confusion matrix for Random Forest\n",
            " [[13  0  0]\n",
            " [ 0 15  1]\n",
            " [ 0  2 14]]\n",
            "accuracy_random_Forest : 0.933\n",
            "precision_random_Forest : 0.933\n",
            "recall_random_Forest : 0.933\n",
            "f1-score_random_Forest : 0.933\n"
          ]
        }
      ]
    },
    {
      "cell_type": "markdown",
      "source": [
        "Multiclassification"
      ],
      "metadata": {
        "id": "oKUe_YJqzfQC"
      }
    },
    {
      "cell_type": "code",
      "source": [
        "from sklearn.linear_model import SGDClassifier\n",
        "from sklearn.ensemble import RandomForestClassifier\n",
        "from sklearn.model_selection import cross_val_score\n",
        "\n",
        "sgd_clf = SGDClassifier(random_state=42)\n",
        "ranFor_clf = RandomForestClassifier(random_state=42)\n",
        "from sklearn.multiclass import OneVsOneClassifier\n",
        "ovo_clf=OneVsOneClassifier(SGDClassifier(max_iter=5, tol=-np.infty, random_state=42))\n",
        "ovo_clf.fit(X_train,y_train)\n",
        "print(ovo_clf.predict(X))\n",
        "print(len(ovo_clf.estimators_))"
      ],
      "metadata": {
        "colab": {
          "base_uri": "https://localhost:8080/"
        },
        "id": "i7TXZk-zzj4q",
        "outputId": "6273e885-5d29-498c-ed3e-b7bad44f48c2"
      },
      "execution_count": 153,
      "outputs": [
        {
          "output_type": "stream",
          "name": "stdout",
          "text": [
            "[0 0 0 0 0 0 0 0 0 0 0 0 0 0 0 0 0 0 0 0 0 0 0 0 0 0 0 0 0 0 0 0 0 0 0 0 0\n",
            " 0 0 0 0 0 0 0 0 0 0 0 0 0 1 1 1 1 1 1 1 1 1 1 1 1 1 1 1 1 1 1 1 1 2 1 2 1\n",
            " 1 1 1 1 1 1 1 1 1 2 2 1 1 1 1 1 1 1 1 1 1 1 1 1 1 1 2 2 2 2 2 2 2 2 2 2 2\n",
            " 2 2 2 2 2 2 2 2 2 2 2 2 2 2 2 2 2 2 2 2 2 2 2 2 2 2 2 2 2 2 2 2 2 2 2 2 2\n",
            " 2 2]\n",
            "3\n"
          ]
        }
      ]
    },
    {
      "cell_type": "code",
      "source": [
        "ranFor_clf.fit(X_train, y_train)\n",
        "ranFor_clf.predict(X)\n",
        "print(ranFor_clf.predict_proba(X))\n",
        "print(cross_val_score(sgd_clf,X_train,y_train,cv=3,scoring=\"accuracy\"))"
      ],
      "metadata": {
        "colab": {
          "base_uri": "https://localhost:8080/"
        },
        "id": "ckA7VKcvzx22",
        "outputId": "26b41a04-4077-4cd1-e66e-23bb7b867224"
      },
      "execution_count": 154,
      "outputs": [
        {
          "output_type": "stream",
          "name": "stdout",
          "text": [
            "[[1.   0.   0.  ]\n",
            " [1.   0.   0.  ]\n",
            " [1.   0.   0.  ]\n",
            " [1.   0.   0.  ]\n",
            " [1.   0.   0.  ]\n",
            " [1.   0.   0.  ]\n",
            " [1.   0.   0.  ]\n",
            " [1.   0.   0.  ]\n",
            " [1.   0.   0.  ]\n",
            " [1.   0.   0.  ]\n",
            " [0.99 0.01 0.  ]\n",
            " [1.   0.   0.  ]\n",
            " [1.   0.   0.  ]\n",
            " [1.   0.   0.  ]\n",
            " [0.97 0.03 0.  ]\n",
            " [0.98 0.02 0.  ]\n",
            " [1.   0.   0.  ]\n",
            " [1.   0.   0.  ]\n",
            " [0.97 0.03 0.  ]\n",
            " [1.   0.   0.  ]\n",
            " [0.99 0.01 0.  ]\n",
            " [1.   0.   0.  ]\n",
            " [1.   0.   0.  ]\n",
            " [1.   0.   0.  ]\n",
            " [1.   0.   0.  ]\n",
            " [1.   0.   0.  ]\n",
            " [1.   0.   0.  ]\n",
            " [1.   0.   0.  ]\n",
            " [1.   0.   0.  ]\n",
            " [1.   0.   0.  ]\n",
            " [1.   0.   0.  ]\n",
            " [0.99 0.01 0.  ]\n",
            " [1.   0.   0.  ]\n",
            " [1.   0.   0.  ]\n",
            " [1.   0.   0.  ]\n",
            " [1.   0.   0.  ]\n",
            " [0.99 0.01 0.  ]\n",
            " [1.   0.   0.  ]\n",
            " [1.   0.   0.  ]\n",
            " [1.   0.   0.  ]\n",
            " [1.   0.   0.  ]\n",
            " [0.99 0.01 0.  ]\n",
            " [1.   0.   0.  ]\n",
            " [1.   0.   0.  ]\n",
            " [1.   0.   0.  ]\n",
            " [1.   0.   0.  ]\n",
            " [1.   0.   0.  ]\n",
            " [1.   0.   0.  ]\n",
            " [1.   0.   0.  ]\n",
            " [1.   0.   0.  ]\n",
            " [0.   1.   0.  ]\n",
            " [0.   0.99 0.01]\n",
            " [0.   0.82 0.18]\n",
            " [0.   1.   0.  ]\n",
            " [0.   0.94 0.06]\n",
            " [0.   0.99 0.01]\n",
            " [0.01 0.97 0.02]\n",
            " [0.01 0.9  0.09]\n",
            " [0.   1.   0.  ]\n",
            " [0.01 0.99 0.  ]\n",
            " [0.01 0.99 0.  ]\n",
            " [0.   1.   0.  ]\n",
            " [0.   1.   0.  ]\n",
            " [0.   1.   0.  ]\n",
            " [0.   1.   0.  ]\n",
            " [0.   1.   0.  ]\n",
            " [0.   1.   0.  ]\n",
            " [0.   1.   0.  ]\n",
            " [0.   0.97 0.03]\n",
            " [0.   0.99 0.01]\n",
            " [0.   0.64 0.36]\n",
            " [0.   1.   0.  ]\n",
            " [0.   0.79 0.21]\n",
            " [0.   1.   0.  ]\n",
            " [0.   1.   0.  ]\n",
            " [0.   1.   0.  ]\n",
            " [0.   0.87 0.13]\n",
            " [0.   0.09 0.91]\n",
            " [0.   0.99 0.01]\n",
            " [0.   0.99 0.01]\n",
            " [0.   1.   0.  ]\n",
            " [0.   1.   0.  ]\n",
            " [0.   1.   0.  ]\n",
            " [0.   0.81 0.19]\n",
            " [0.01 0.98 0.01]\n",
            " [0.01 0.97 0.02]\n",
            " [0.   0.99 0.01]\n",
            " [0.   0.99 0.01]\n",
            " [0.   1.   0.  ]\n",
            " [0.   0.99 0.01]\n",
            " [0.   0.99 0.01]\n",
            " [0.   1.   0.  ]\n",
            " [0.   0.98 0.02]\n",
            " [0.01 0.99 0.  ]\n",
            " [0.   1.   0.  ]\n",
            " [0.   1.   0.  ]\n",
            " [0.   1.   0.  ]\n",
            " [0.   1.   0.  ]\n",
            " [0.01 0.98 0.01]\n",
            " [0.   1.   0.  ]\n",
            " [0.   0.   1.  ]\n",
            " [0.   0.04 0.96]\n",
            " [0.   0.   1.  ]\n",
            " [0.   0.   1.  ]\n",
            " [0.   0.   1.  ]\n",
            " [0.   0.   1.  ]\n",
            " [0.01 0.26 0.73]\n",
            " [0.   0.   1.  ]\n",
            " [0.   0.03 0.97]\n",
            " [0.   0.   1.  ]\n",
            " [0.   0.01 0.99]\n",
            " [0.   0.01 0.99]\n",
            " [0.   0.   1.  ]\n",
            " [0.   0.03 0.97]\n",
            " [0.   0.02 0.98]\n",
            " [0.   0.   1.  ]\n",
            " [0.   0.   1.  ]\n",
            " [0.   0.   1.  ]\n",
            " [0.   0.   1.  ]\n",
            " [0.   0.82 0.18]\n",
            " [0.   0.01 0.99]\n",
            " [0.   0.05 0.95]\n",
            " [0.   0.   1.  ]\n",
            " [0.   0.07 0.93]\n",
            " [0.   0.   1.  ]\n",
            " [0.   0.   1.  ]\n",
            " [0.   0.43 0.57]\n",
            " [0.   0.06 0.94]\n",
            " [0.   0.   1.  ]\n",
            " [0.   0.32 0.68]\n",
            " [0.   0.   1.  ]\n",
            " [0.   0.01 0.99]\n",
            " [0.   0.   1.  ]\n",
            " [0.   0.26 0.74]\n",
            " [0.   0.25 0.75]\n",
            " [0.   0.   1.  ]\n",
            " [0.   0.   1.  ]\n",
            " [0.   0.   1.  ]\n",
            " [0.   0.55 0.45]\n",
            " [0.   0.01 0.99]\n",
            " [0.   0.   1.  ]\n",
            " [0.   0.03 0.97]\n",
            " [0.   0.04 0.96]\n",
            " [0.   0.   1.  ]\n",
            " [0.   0.   1.  ]\n",
            " [0.   0.02 0.98]\n",
            " [0.   0.08 0.92]\n",
            " [0.   0.01 0.99]\n",
            " [0.   0.01 0.99]\n",
            " [0.   0.05 0.95]]\n",
            "[0.37142857 0.85714286 0.51428571]\n"
          ]
        }
      ]
    },
    {
      "cell_type": "code",
      "source": [
        "from sklearn.preprocessing import StandardScaler\n",
        "scaler=StandardScaler()\n",
        "X_train,X_test, y_train, y_test=X[:600], X[600:],y[:600],y[600:]\n",
        "\n",
        "X_train_scaled=scaler.fit_transform(X_train.astype(np.float64))\n",
        "cross_val_score(sgd_clf, X_train_scaled,y_train, cv=3, scoring=\"accuracy\")"
      ],
      "metadata": {
        "colab": {
          "base_uri": "https://localhost:8080/"
        },
        "id": "Tf6Hs8l-z3OS",
        "outputId": "72002cf8-1eb7-42a7-caf7-7bcc4ec7f1d3"
      },
      "execution_count": 155,
      "outputs": [
        {
          "output_type": "execute_result",
          "data": {
            "text/plain": [
              "array([0.96, 0.92, 0.9 ])"
            ]
          },
          "metadata": {},
          "execution_count": 155
        }
      ]
    },
    {
      "cell_type": "code",
      "source": [
        "from sklearn.metrics import confusion_matrix\n",
        "y_train_pred=cross_val_predict(sgd_clf,X_train_scaled,y_train,cv=3)\n",
        "conf_mx=confusion_matrix(y_train,y_train_pred)\n",
        "conf_mx"
      ],
      "metadata": {
        "colab": {
          "base_uri": "https://localhost:8080/"
        },
        "id": "ztaQb8Mh0A2M",
        "outputId": "9d5d7bf7-0205-4a43-98f5-156610be3b69"
      },
      "execution_count": 156,
      "outputs": [
        {
          "output_type": "execute_result",
          "data": {
            "text/plain": [
              "array([[49,  1,  0],\n",
              "       [ 1, 46,  3],\n",
              "       [ 0,  6, 44]])"
            ]
          },
          "metadata": {},
          "execution_count": 156
        }
      ]
    },
    {
      "cell_type": "code",
      "source": [
        "def plot_confusion_matrix(matrix):\n",
        "  fig=plt.figure(figsize=(8,8))\n",
        "  ax=fig.add_subplot(111)\n",
        "  cax=ax.matshow(matrix)\n",
        "plt.matshow(conf_mx,cmap=plt.cm.gray)\n",
        "print(\"confusion_matrix_plot\")  \n",
        "plt.show()"
      ],
      "metadata": {
        "colab": {
          "base_uri": "https://localhost:8080/",
          "height": 292
        },
        "id": "hds3Dcnw0FE4",
        "outputId": "feebfa72-2dc7-4951-a357-a7f13892b063"
      },
      "execution_count": 157,
      "outputs": [
        {
          "output_type": "stream",
          "name": "stdout",
          "text": [
            "confusion_matrix_plot\n"
          ]
        },
        {
          "output_type": "display_data",
          "data": {
            "text/plain": [
              "<Figure size 288x288 with 1 Axes>"
            ],
            "image/png": "[encoded data removed]"
          },
          "metadata": {
            "needs_background": "light"
          }
        }
      ]
    },
    {
      "cell_type": "code",
      "source": [
        "row_sums=conf_mx.sum(axis=1,keepdims=True)\n",
        "norm_conf_mx=conf_mx/row_sums\n",
        "np.fill_diagonal(norm_conf_mx,0)\n",
        "plt.matshow(norm_conf_mx, cmap=plt.cm.gray)\n",
        "print(\"confusion_matrix_errors_plot\")\n",
        "plt.show()"
      ],
      "metadata": {
        "colab": {
          "base_uri": "https://localhost:8080/",
          "height": 292
        },
        "id": "AvfiiMnv0Hog",
        "outputId": "644afed8-01ff-4a8f-9355-0d4475221768"
      },
      "execution_count": 158,
      "outputs": [
        {
          "output_type": "stream",
          "name": "stdout",
          "text": [
            "confusion_matrix_errors_plot\n"
          ]
        },
        {
          "output_type": "display_data",
          "data": {
            "text/plain": [
              "<Figure size 288x288 with 1 Axes>"
            ],
            "image/png": "[encoded data removed]"
          },
          "metadata": {
            "needs_background": "light"
          }
        }
      ]
    },
    {
      "cell_type": "code",
      "source": [
        "cl_a,cl_b=3,5\n",
        "X_aa=X_train[(y_train==cl_a) & (y_train_pred==cl_a)]\n",
        "X_ab=X_train[(y_train==cl_a) & (y_train_pred==cl_b)]\n",
        "X_ba=X_train[(y_train==cl_b) & (y_train_pred==cl_a)]\n",
        "X_bb=X_train[(y_train==cl_b) & (y_train_pred==cl_b)]\n",
        "\n",
        "\n"
      ],
      "metadata": {
        "id": "s_mRtg9_0P22"
      },
      "execution_count": 159,
      "outputs": []
    }
  ]
}